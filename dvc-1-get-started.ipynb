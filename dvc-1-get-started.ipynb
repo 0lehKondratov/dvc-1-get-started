{
 "cells": [
  {
   "cell_type": "markdown",
   "metadata": {},
   "source": [
    "# Install and init DVC\n",
    "\n",
    "Prerequisites: \n",
    "-  DVC and requirements.txt packages installed (if not - check README.md file for instructions)\n",
    "-  A project repository is a Git repo "
   ]
  },
  {
   "cell_type": "markdown",
   "metadata": {},
   "source": [
    "## Install with pip"
   ]
  },
  {
   "cell_type": "code",
   "execution_count": 1,
   "metadata": {
    "scrolled": true
   },
   "outputs": [
    {
     "name": "stdout",
     "output_type": "stream",
     "text": [
      "Requirement already satisfied: dvc==1.8.4 in /home/cruser/anaconda3/lib/python3.9/site-packages (1.8.4)\n",
      "Requirement already satisfied: zc.lockfile>=1.2.1 in /home/cruser/anaconda3/lib/python3.9/site-packages (from dvc==1.8.4) (2.0)\n",
      "Requirement already satisfied: dictdiffer>=0.8.1 in /home/cruser/anaconda3/lib/python3.9/site-packages (from dvc==1.8.4) (0.9.0)\n",
      "Requirement already satisfied: colorama>=0.3.9 in /home/cruser/anaconda3/lib/python3.9/site-packages (from dvc==1.8.4) (0.4.4)\n",
      "Requirement already satisfied: configobj>=5.0.6 in /home/cruser/anaconda3/lib/python3.9/site-packages (from dvc==1.8.4) (5.0.6)\n",
      "Requirement already satisfied: distro>=1.3.0 in /home/cruser/anaconda3/lib/python3.9/site-packages (from dvc==1.8.4) (1.7.0)\n",
      "Requirement already satisfied: pydot>=1.2.4 in /home/cruser/anaconda3/lib/python3.9/site-packages (from dvc==1.8.4) (1.4.2)\n",
      "Requirement already satisfied: dpath<3,>=2.0.1 in /home/cruser/anaconda3/lib/python3.9/site-packages (from dvc==1.8.4) (2.0.6)\n",
      "Requirement already satisfied: flatten-dict<1,>=0.3.0 in /home/cruser/anaconda3/lib/python3.9/site-packages (from dvc==1.8.4) (0.4.2)\n",
      "Requirement already satisfied: rich>=3.0.5 in /home/cruser/anaconda3/lib/python3.9/site-packages (from dvc==1.8.4) (12.5.1)\n",
      "Requirement already satisfied: voluptuous>=0.11.7 in /home/cruser/anaconda3/lib/python3.9/site-packages (from dvc==1.8.4) (0.13.1)\n",
      "Requirement already satisfied: pyasn1>=0.4.1 in /home/cruser/anaconda3/lib/python3.9/site-packages (from dvc==1.8.4) (0.4.8)\n",
      "Requirement already satisfied: gitpython>3 in /home/cruser/anaconda3/lib/python3.9/site-packages (from dvc==1.8.4) (3.1.27)\n",
      "Requirement already satisfied: funcy>=1.14 in /home/cruser/anaconda3/lib/python3.9/site-packages (from dvc==1.8.4) (1.17)\n",
      "Requirement already satisfied: shtab<2,>=1.3.2 in /home/cruser/anaconda3/lib/python3.9/site-packages (from dvc==1.8.4) (1.5.5)\n",
      "Requirement already satisfied: networkx<2.5,>=2.1 in /home/cruser/anaconda3/lib/python3.9/site-packages (from dvc==1.8.4) (2.4)\n",
      "Requirement already satisfied: tqdm<5,>=4.45.0 in /home/cruser/anaconda3/lib/python3.9/site-packages (from dvc==1.8.4) (4.62.3)\n",
      "Requirement already satisfied: packaging>=19.0 in /home/cruser/anaconda3/lib/python3.9/site-packages (from dvc==1.8.4) (21.0)\n",
      "Requirement already satisfied: jsonpath-ng>=1.5.1 in /home/cruser/anaconda3/lib/python3.9/site-packages (from dvc==1.8.4) (1.5.3)\n",
      "Requirement already satisfied: pathspec>=0.6.0 in /home/cruser/anaconda3/lib/python3.9/site-packages (from dvc==1.8.4) (0.7.0)\n",
      "Requirement already satisfied: shortuuid>=0.5.0 in /home/cruser/anaconda3/lib/python3.9/site-packages (from dvc==1.8.4) (1.0.9)\n",
      "Requirement already satisfied: grandalf==0.6 in /home/cruser/anaconda3/lib/python3.9/site-packages (from dvc==1.8.4) (0.6)\n",
      "Requirement already satisfied: tabulate>=0.8.7 in /home/cruser/anaconda3/lib/python3.9/site-packages (from dvc==1.8.4) (0.8.10)\n",
      "Requirement already satisfied: toml>=0.10.1 in /home/cruser/anaconda3/lib/python3.9/site-packages (from dvc==1.8.4) (0.10.2)\n",
      "Requirement already satisfied: flufl.lock<4,>=3.2 in /home/cruser/anaconda3/lib/python3.9/site-packages (from dvc==1.8.4) (3.2)\n",
      "Requirement already satisfied: ply>=3.9 in /home/cruser/anaconda3/lib/python3.9/site-packages (from dvc==1.8.4) (3.11)\n",
      "Requirement already satisfied: setuptools>=34.0.0 in /home/cruser/anaconda3/lib/python3.9/site-packages (from dvc==1.8.4) (58.0.4)\n",
      "Requirement already satisfied: appdirs>=1.4.3 in /home/cruser/anaconda3/lib/python3.9/site-packages (from dvc==1.8.4) (1.4.4)\n",
      "Requirement already satisfied: requests>=2.22.0 in /home/cruser/anaconda3/lib/python3.9/site-packages (from dvc==1.8.4) (2.25.1)\n",
      "Requirement already satisfied: pygtrie==2.3.2 in /home/cruser/anaconda3/lib/python3.9/site-packages (from dvc==1.8.4) (2.3.2)\n",
      "Requirement already satisfied: ruamel.yaml>=0.16.1 in /home/cruser/anaconda3/lib/python3.9/site-packages (from dvc==1.8.4) (0.17.21)\n",
      "Requirement already satisfied: nanotime>=0.5.2 in /home/cruser/anaconda3/lib/python3.9/site-packages (from dvc==1.8.4) (0.5.2)\n",
      "Requirement already satisfied: pyparsing in /home/cruser/anaconda3/lib/python3.9/site-packages (from grandalf==0.6->dvc==1.8.4) (3.0.4)\n",
      "Requirement already satisfied: future in /home/cruser/anaconda3/lib/python3.9/site-packages (from grandalf==0.6->dvc==1.8.4) (0.18.2)\n",
      "Requirement already satisfied: six in /home/cruser/anaconda3/lib/python3.9/site-packages (from configobj>=5.0.6->dvc==1.8.4) (1.16.0)\n",
      "Requirement already satisfied: atpublic in /home/cruser/anaconda3/lib/python3.9/site-packages (from flufl.lock<4,>=3.2->dvc==1.8.4) (3.1.1)\n",
      "Requirement already satisfied: gitdb<5,>=4.0.1 in /home/cruser/anaconda3/lib/python3.9/site-packages (from gitpython>3->dvc==1.8.4) (4.0.9)\n",
      "Requirement already satisfied: smmap<6,>=3.0.1 in /home/cruser/anaconda3/lib/python3.9/site-packages (from gitdb<5,>=4.0.1->gitpython>3->dvc==1.8.4) (5.0.0)\n",
      "Requirement already satisfied: decorator in /home/cruser/anaconda3/lib/python3.9/site-packages (from jsonpath-ng>=1.5.1->dvc==1.8.4) (5.1.0)\n",
      "Requirement already satisfied: chardet<5,>=3.0.2 in /home/cruser/anaconda3/lib/python3.9/site-packages (from requests>=2.22.0->dvc==1.8.4) (4.0.0)\n",
      "Requirement already satisfied: certifi>=2017.4.17 in /home/cruser/anaconda3/lib/python3.9/site-packages (from requests>=2.22.0->dvc==1.8.4) (2021.10.8)\n",
      "Requirement already satisfied: idna<3,>=2.5 in /home/cruser/anaconda3/lib/python3.9/site-packages (from requests>=2.22.0->dvc==1.8.4) (2.10)\n",
      "Requirement already satisfied: urllib3<1.27,>=1.21.1 in /home/cruser/anaconda3/lib/python3.9/site-packages (from requests>=2.22.0->dvc==1.8.4) (1.26.7)\n",
      "Requirement already satisfied: commonmark<0.10.0,>=0.9.0 in /home/cruser/anaconda3/lib/python3.9/site-packages (from rich>=3.0.5->dvc==1.8.4) (0.9.1)\n",
      "Requirement already satisfied: pygments<3.0.0,>=2.6.0 in /home/cruser/anaconda3/lib/python3.9/site-packages (from rich>=3.0.5->dvc==1.8.4) (2.10.0)\n",
      "Requirement already satisfied: ruamel.yaml.clib>=0.2.6 in /home/cruser/anaconda3/lib/python3.9/site-packages (from ruamel.yaml>=0.16.1->dvc==1.8.4) (0.2.6)\n"
     ]
    }
   ],
   "source": [
    "!pip install dvc==1.8.4"
   ]
  },
  {
   "cell_type": "markdown",
   "metadata": {},
   "source": [
    "## Checkout branch `experiments`"
   ]
  },
  {
   "cell_type": "code",
   "execution_count": 1,
   "metadata": {},
   "outputs": [
    {
     "name": "stdout",
     "output_type": "stream",
     "text": [
      "fatal: A branch named 'experiments' already exists.\n"
     ]
    }
   ],
   "source": [
    "!git checkout -b experiments"
   ]
  },
  {
   "cell_type": "code",
   "execution_count": null,
   "metadata": {},
   "outputs": [],
   "source": []
  },
  {
   "cell_type": "markdown",
   "metadata": {
    "ExecuteTime": {
     "end_time": "2019-06-08T11:18:29.199273Z",
     "start_time": "2019-06-08T11:18:29.196865Z"
    }
   },
   "source": [
    "## Initialize DVC\n",
    "\n",
    "References: \n",
    "- https://dvc.org/doc/get-started/initialize "
   ]
  },
  {
   "cell_type": "code",
   "execution_count": 2,
   "metadata": {
    "ExecuteTime": {
     "end_time": "2020-06-07T15:14:05.457897Z",
     "start_time": "2020-06-07T15:14:04.794229Z"
    }
   },
   "outputs": [
    {
     "name": "stdout",
     "output_type": "stream",
     "text": [
      "\u001b[31mERROR\u001b[39m: failed to initiate DVC - '.dvc' exists. Use `-f` to force.\n",
      "\u001b[0m"
     ]
    }
   ],
   "source": [
    "!dvc init"
   ]
  },
  {
   "cell_type": "markdown",
   "metadata": {},
   "source": [
    "## Commit changes"
   ]
  },
  {
   "cell_type": "code",
   "execution_count": 3,
   "metadata": {
    "ExecuteTime": {
     "end_time": "2019-06-09T07:56:42.119367Z",
     "start_time": "2019-06-09T07:56:42.004239Z"
    }
   },
   "outputs": [
    {
     "name": "stdout",
     "output_type": "stream",
     "text": [
      "[experiments b20e564] Initialize DVC\n",
      " 577 files changed, 209775 insertions(+), 26 deletions(-)\n",
      " create mode 100644 .jupyter/bin/Activate.ps1\n",
      " create mode 100644 .jupyter/bin/activate\n",
      " create mode 100644 .jupyter/bin/activate.csh\n",
      " create mode 100644 .jupyter/bin/activate.fish\n",
      " create mode 100755 .jupyter/bin/pip\n",
      " create mode 100755 .jupyter/bin/pip3\n",
      " create mode 100755 .jupyter/bin/pip3.9\n",
      " create mode 120000 .jupyter/bin/python\n",
      " create mode 120000 .jupyter/bin/python3\n",
      " create mode 120000 .jupyter/bin/python3.9\n",
      " create mode 100644 .jupyter/lib/python3.9/site-packages/_distutils_hack/__init__.py\n",
      " create mode 100644 .jupyter/lib/python3.9/site-packages/_distutils_hack/override.py\n",
      " create mode 100644 .jupyter/lib/python3.9/site-packages/distutils-precedence.pth\n",
      " create mode 100644 .jupyter/lib/python3.9/site-packages/pip-21.2.3.dist-info/INSTALLER\n",
      " create mode 100644 .jupyter/lib/python3.9/site-packages/pip-21.2.3.dist-info/LICENSE.txt\n",
      " create mode 100644 .jupyter/lib/python3.9/site-packages/pip-21.2.3.dist-info/METADATA\n",
      " create mode 100644 .jupyter/lib/python3.9/site-packages/pip-21.2.3.dist-info/RECORD\n",
      " create mode 100644 .jupyter/lib/python3.9/site-packages/pip-21.2.3.dist-info/REQUESTED\n",
      " create mode 100644 .jupyter/lib/python3.9/site-packages/pip-21.2.3.dist-info/WHEEL\n",
      " create mode 100644 .jupyter/lib/python3.9/site-packages/pip-21.2.3.dist-info/entry_points.txt\n",
      " create mode 100644 .jupyter/lib/python3.9/site-packages/pip-21.2.3.dist-info/top_level.txt\n",
      " create mode 100644 .jupyter/lib/python3.9/site-packages/pip/__init__.py\n",
      " create mode 100644 .jupyter/lib/python3.9/site-packages/pip/__main__.py\n",
      " create mode 100644 .jupyter/lib/python3.9/site-packages/pip/_internal/__init__.py\n",
      " create mode 100644 .jupyter/lib/python3.9/site-packages/pip/_internal/build_env.py\n",
      " create mode 100644 .jupyter/lib/python3.9/site-packages/pip/_internal/cache.py\n",
      " create mode 100644 .jupyter/lib/python3.9/site-packages/pip/_internal/cli/__init__.py\n",
      " create mode 100644 .jupyter/lib/python3.9/site-packages/pip/_internal/cli/autocompletion.py\n",
      " create mode 100644 .jupyter/lib/python3.9/site-packages/pip/_internal/cli/base_command.py\n",
      " create mode 100644 .jupyter/lib/python3.9/site-packages/pip/_internal/cli/cmdoptions.py\n",
      " create mode 100644 .jupyter/lib/python3.9/site-packages/pip/_internal/cli/command_context.py\n",
      " create mode 100644 .jupyter/lib/python3.9/site-packages/pip/_internal/cli/main.py\n",
      " create mode 100644 .jupyter/lib/python3.9/site-packages/pip/_internal/cli/main_parser.py\n",
      " create mode 100644 .jupyter/lib/python3.9/site-packages/pip/_internal/cli/parser.py\n",
      " create mode 100644 .jupyter/lib/python3.9/site-packages/pip/_internal/cli/progress_bars.py\n",
      " create mode 100644 .jupyter/lib/python3.9/site-packages/pip/_internal/cli/req_command.py\n",
      " create mode 100644 .jupyter/lib/python3.9/site-packages/pip/_internal/cli/spinners.py\n",
      " create mode 100644 .jupyter/lib/python3.9/site-packages/pip/_internal/cli/status_codes.py\n",
      " create mode 100644 .jupyter/lib/python3.9/site-packages/pip/_internal/commands/__init__.py\n",
      " create mode 100644 .jupyter/lib/python3.9/site-packages/pip/_internal/commands/cache.py\n",
      " create mode 100644 .jupyter/lib/python3.9/site-packages/pip/_internal/commands/check.py\n",
      " create mode 100644 .jupyter/lib/python3.9/site-packages/pip/_internal/commands/completion.py\n",
      " create mode 100644 .jupyter/lib/python3.9/site-packages/pip/_internal/commands/configuration.py\n",
      " create mode 100644 .jupyter/lib/python3.9/site-packages/pip/_internal/commands/debug.py\n",
      " create mode 100644 .jupyter/lib/python3.9/site-packages/pip/_internal/commands/download.py\n",
      " create mode 100644 .jupyter/lib/python3.9/site-packages/pip/_internal/commands/freeze.py\n",
      " create mode 100644 .jupyter/lib/python3.9/site-packages/pip/_internal/commands/hash.py\n",
      " create mode 100644 .jupyter/lib/python3.9/site-packages/pip/_internal/commands/help.py\n",
      " create mode 100644 .jupyter/lib/python3.9/site-packages/pip/_internal/commands/index.py\n",
      " create mode 100644 .jupyter/lib/python3.9/site-packages/pip/_internal/commands/install.py\n",
      " create mode 100644 .jupyter/lib/python3.9/site-packages/pip/_internal/commands/list.py\n",
      " create mode 100644 .jupyter/lib/python3.9/site-packages/pip/_internal/commands/search.py\n",
      " create mode 100644 .jupyter/lib/python3.9/site-packages/pip/_internal/commands/show.py\n",
      " create mode 100644 .jupyter/lib/python3.9/site-packages/pip/_internal/commands/uninstall.py\n",
      " create mode 100644 .jupyter/lib/python3.9/site-packages/pip/_internal/commands/wheel.py\n",
      " create mode 100644 .jupyter/lib/python3.9/site-packages/pip/_internal/configuration.py\n",
      " create mode 100644 .jupyter/lib/python3.9/site-packages/pip/_internal/distributions/__init__.py\n",
      " create mode 100644 .jupyter/lib/python3.9/site-packages/pip/_internal/distributions/base.py\n",
      " create mode 100644 .jupyter/lib/python3.9/site-packages/pip/_internal/distributions/installed.py\n",
      " create mode 100644 .jupyter/lib/python3.9/site-packages/pip/_internal/distributions/sdist.py\n",
      " create mode 100644 .jupyter/lib/python3.9/site-packages/pip/_internal/distributions/wheel.py\n",
      " create mode 100644 .jupyter/lib/python3.9/site-packages/pip/_internal/exceptions.py\n",
      " create mode 100644 .jupyter/lib/python3.9/site-packages/pip/_internal/index/__init__.py\n",
      " create mode 100644 .jupyter/lib/python3.9/site-packages/pip/_internal/index/collector.py\n",
      " create mode 100644 .jupyter/lib/python3.9/site-packages/pip/_internal/index/package_finder.py\n",
      " create mode 100644 .jupyter/lib/python3.9/site-packages/pip/_internal/index/sources.py\n",
      " create mode 100644 .jupyter/lib/python3.9/site-packages/pip/_internal/locations/__init__.py\n",
      " create mode 100644 .jupyter/lib/python3.9/site-packages/pip/_internal/locations/_distutils.py\n",
      " create mode 100644 .jupyter/lib/python3.9/site-packages/pip/_internal/locations/_sysconfig.py\n",
      " create mode 100644 .jupyter/lib/python3.9/site-packages/pip/_internal/locations/base.py\n",
      " create mode 100644 .jupyter/lib/python3.9/site-packages/pip/_internal/main.py\n",
      " create mode 100644 .jupyter/lib/python3.9/site-packages/pip/_internal/metadata/__init__.py\n",
      " create mode 100644 .jupyter/lib/python3.9/site-packages/pip/_internal/metadata/base.py\n",
      " create mode 100644 .jupyter/lib/python3.9/site-packages/pip/_internal/metadata/pkg_resources.py\n",
      " create mode 100644 .jupyter/lib/python3.9/site-packages/pip/_internal/models/__init__.py\n",
      " create mode 100644 .jupyter/lib/python3.9/site-packages/pip/_internal/models/candidate.py\n",
      " create mode 100644 .jupyter/lib/python3.9/site-packages/pip/_internal/models/direct_url.py\n",
      " create mode 100644 .jupyter/lib/python3.9/site-packages/pip/_internal/models/format_control.py\n",
      " create mode 100644 .jupyter/lib/python3.9/site-packages/pip/_internal/models/index.py\n",
      " create mode 100644 .jupyter/lib/python3.9/site-packages/pip/_internal/models/link.py\n",
      " create mode 100644 .jupyter/lib/python3.9/site-packages/pip/_internal/models/scheme.py\n",
      " create mode 100644 .jupyter/lib/python3.9/site-packages/pip/_internal/models/search_scope.py\n",
      " create mode 100644 .jupyter/lib/python3.9/site-packages/pip/_internal/models/selection_prefs.py\n",
      " create mode 100644 .jupyter/lib/python3.9/site-packages/pip/_internal/models/target_python.py\n",
      " create mode 100644 .jupyter/lib/python3.9/site-packages/pip/_internal/models/wheel.py\n",
      " create mode 100644 .jupyter/lib/python3.9/site-packages/pip/_internal/network/__init__.py\n",
      " create mode 100644 .jupyter/lib/python3.9/site-packages/pip/_internal/network/auth.py\n",
      " create mode 100644 .jupyter/lib/python3.9/site-packages/pip/_internal/network/cache.py\n",
      " create mode 100644 .jupyter/lib/python3.9/site-packages/pip/_internal/network/download.py\n",
      " create mode 100644 .jupyter/lib/python3.9/site-packages/pip/_internal/network/lazy_wheel.py\n",
      " create mode 100644 .jupyter/lib/python3.9/site-packages/pip/_internal/network/session.py\n",
      " create mode 100644 .jupyter/lib/python3.9/site-packages/pip/_internal/network/utils.py\n",
      " create mode 100644 .jupyter/lib/python3.9/site-packages/pip/_internal/network/xmlrpc.py\n",
      " create mode 100644 .jupyter/lib/python3.9/site-packages/pip/_internal/operations/__init__.py\n",
      " create mode 100644 .jupyter/lib/python3.9/site-packages/pip/_internal/operations/build/__init__.py\n",
      " create mode 100644 .jupyter/lib/python3.9/site-packages/pip/_internal/operations/build/metadata.py\n",
      " create mode 100644 .jupyter/lib/python3.9/site-packages/pip/_internal/operations/build/metadata_legacy.py\n",
      " create mode 100644 .jupyter/lib/python3.9/site-packages/pip/_internal/operations/build/wheel.py\n",
      " create mode 100644 .jupyter/lib/python3.9/site-packages/pip/_internal/operations/build/wheel_legacy.py\n",
      " create mode 100644 .jupyter/lib/python3.9/site-packages/pip/_internal/operations/check.py\n",
      " create mode 100644 .jupyter/lib/python3.9/site-packages/pip/_internal/operations/freeze.py\n",
      " create mode 100644 .jupyter/lib/python3.9/site-packages/pip/_internal/operations/install/__init__.py\n",
      " create mode 100644 .jupyter/lib/python3.9/site-packages/pip/_internal/operations/install/editable_legacy.py\n",
      " create mode 100644 .jupyter/lib/python3.9/site-packages/pip/_internal/operations/install/legacy.py\n",
      " create mode 100644 .jupyter/lib/python3.9/site-packages/pip/_internal/operations/install/wheel.py\n",
      " create mode 100644 .jupyter/lib/python3.9/site-packages/pip/_internal/operations/prepare.py\n",
      " create mode 100644 .jupyter/lib/python3.9/site-packages/pip/_internal/pyproject.py\n",
      " create mode 100644 .jupyter/lib/python3.9/site-packages/pip/_internal/req/__init__.py\n",
      " create mode 100644 .jupyter/lib/python3.9/site-packages/pip/_internal/req/constructors.py\n",
      " create mode 100644 .jupyter/lib/python3.9/site-packages/pip/_internal/req/req_file.py\n",
      " create mode 100644 .jupyter/lib/python3.9/site-packages/pip/_internal/req/req_install.py\n",
      " create mode 100644 .jupyter/lib/python3.9/site-packages/pip/_internal/req/req_set.py\n",
      " create mode 100644 .jupyter/lib/python3.9/site-packages/pip/_internal/req/req_tracker.py\n",
      " create mode 100644 .jupyter/lib/python3.9/site-packages/pip/_internal/req/req_uninstall.py\n",
      " create mode 100644 .jupyter/lib/python3.9/site-packages/pip/_internal/resolution/__init__.py\n",
      " create mode 100644 .jupyter/lib/python3.9/site-packages/pip/_internal/resolution/base.py\n",
      " create mode 100644 .jupyter/lib/python3.9/site-packages/pip/_internal/resolution/legacy/__init__.py\n",
      " create mode 100644 .jupyter/lib/python3.9/site-packages/pip/_internal/resolution/legacy/resolver.py\n",
      " create mode 100644 .jupyter/lib/python3.9/site-packages/pip/_internal/resolution/resolvelib/__init__.py\n",
      " create mode 100644 .jupyter/lib/python3.9/site-packages/pip/_internal/resolution/resolvelib/base.py\n",
      " create mode 100644 .jupyter/lib/python3.9/site-packages/pip/_internal/resolution/resolvelib/candidates.py\n",
      " create mode 100644 .jupyter/lib/python3.9/site-packages/pip/_internal/resolution/resolvelib/factory.py\n",
      " create mode 100644 .jupyter/lib/python3.9/site-packages/pip/_internal/resolution/resolvelib/found_candidates.py\n",
      " create mode 100644 .jupyter/lib/python3.9/site-packages/pip/_internal/resolution/resolvelib/provider.py\n",
      " create mode 100644 .jupyter/lib/python3.9/site-packages/pip/_internal/resolution/resolvelib/reporter.py\n",
      " create mode 100644 .jupyter/lib/python3.9/site-packages/pip/_internal/resolution/resolvelib/requirements.py\n",
      " create mode 100644 .jupyter/lib/python3.9/site-packages/pip/_internal/resolution/resolvelib/resolver.py\n",
      " create mode 100644 .jupyter/lib/python3.9/site-packages/pip/_internal/self_outdated_check.py\n",
      " create mode 100644 .jupyter/lib/python3.9/site-packages/pip/_internal/utils/__init__.py\n",
      " create mode 100644 .jupyter/lib/python3.9/site-packages/pip/_internal/utils/_log.py\n",
      " create mode 100644 .jupyter/lib/python3.9/site-packages/pip/_internal/utils/appdirs.py\n",
      " create mode 100644 .jupyter/lib/python3.9/site-packages/pip/_internal/utils/compat.py\n",
      " create mode 100644 .jupyter/lib/python3.9/site-packages/pip/_internal/utils/compatibility_tags.py\n",
      " create mode 100644 .jupyter/lib/python3.9/site-packages/pip/_internal/utils/datetime.py\n",
      " create mode 100644 .jupyter/lib/python3.9/site-packages/pip/_internal/utils/deprecation.py\n",
      " create mode 100644 .jupyter/lib/python3.9/site-packages/pip/_internal/utils/direct_url_helpers.py\n",
      " create mode 100644 .jupyter/lib/python3.9/site-packages/pip/_internal/utils/distutils_args.py\n",
      " create mode 100644 .jupyter/lib/python3.9/site-packages/pip/_internal/utils/encoding.py\n",
      " create mode 100644 .jupyter/lib/python3.9/site-packages/pip/_internal/utils/entrypoints.py\n",
      " create mode 100644 .jupyter/lib/python3.9/site-packages/pip/_internal/utils/filesystem.py\n",
      " create mode 100644 .jupyter/lib/python3.9/site-packages/pip/_internal/utils/filetypes.py\n",
      " create mode 100644 .jupyter/lib/python3.9/site-packages/pip/_internal/utils/glibc.py\n",
      " create mode 100644 .jupyter/lib/python3.9/site-packages/pip/_internal/utils/hashes.py\n",
      " create mode 100644 .jupyter/lib/python3.9/site-packages/pip/_internal/utils/inject_securetransport.py\n",
      " create mode 100644 .jupyter/lib/python3.9/site-packages/pip/_internal/utils/logging.py\n",
      " create mode 100644 .jupyter/lib/python3.9/site-packages/pip/_internal/utils/misc.py\n",
      " create mode 100644 .jupyter/lib/python3.9/site-packages/pip/_internal/utils/models.py\n",
      " create mode 100644 .jupyter/lib/python3.9/site-packages/pip/_internal/utils/packaging.py\n",
      " create mode 100644 .jupyter/lib/python3.9/site-packages/pip/_internal/utils/parallel.py\n",
      " create mode 100644 .jupyter/lib/python3.9/site-packages/pip/_internal/utils/pkg_resources.py\n",
      " create mode 100644 .jupyter/lib/python3.9/site-packages/pip/_internal/utils/setuptools_build.py\n",
      " create mode 100644 .jupyter/lib/python3.9/site-packages/pip/_internal/utils/subprocess.py\n",
      " create mode 100644 .jupyter/lib/python3.9/site-packages/pip/_internal/utils/temp_dir.py\n",
      " create mode 100644 .jupyter/lib/python3.9/site-packages/pip/_internal/utils/unpacking.py\n",
      " create mode 100644 .jupyter/lib/python3.9/site-packages/pip/_internal/utils/urls.py\n",
      " create mode 100644 .jupyter/lib/python3.9/site-packages/pip/_internal/utils/virtualenv.py\n",
      " create mode 100644 .jupyter/lib/python3.9/site-packages/pip/_internal/utils/wheel.py\n",
      " create mode 100644 .jupyter/lib/python3.9/site-packages/pip/_internal/vcs/__init__.py\n",
      " create mode 100644 .jupyter/lib/python3.9/site-packages/pip/_internal/vcs/bazaar.py\n",
      " create mode 100644 .jupyter/lib/python3.9/site-packages/pip/_internal/vcs/git.py\n",
      " create mode 100644 .jupyter/lib/python3.9/site-packages/pip/_internal/vcs/mercurial.py\n",
      " create mode 100644 .jupyter/lib/python3.9/site-packages/pip/_internal/vcs/subversion.py\n",
      " create mode 100644 .jupyter/lib/python3.9/site-packages/pip/_internal/vcs/versioncontrol.py\n",
      " create mode 100644 .jupyter/lib/python3.9/site-packages/pip/_internal/wheel_builder.py\n",
      " create mode 100644 .jupyter/lib/python3.9/site-packages/pip/_vendor/__init__.py\n",
      " create mode 100644 .jupyter/lib/python3.9/site-packages/pip/_vendor/appdirs.py\n",
      " create mode 100644 .jupyter/lib/python3.9/site-packages/pip/_vendor/cachecontrol/__init__.py\n",
      " create mode 100644 .jupyter/lib/python3.9/site-packages/pip/_vendor/cachecontrol/_cmd.py\n",
      " create mode 100644 .jupyter/lib/python3.9/site-packages/pip/_vendor/cachecontrol/adapter.py\n",
      " create mode 100644 .jupyter/lib/python3.9/site-packages/pip/_vendor/cachecontrol/cache.py\n",
      " create mode 100644 .jupyter/lib/python3.9/site-packages/pip/_vendor/cachecontrol/caches/__init__.py\n",
      " create mode 100644 .jupyter/lib/python3.9/site-packages/pip/_vendor/cachecontrol/caches/file_cache.py\n",
      " create mode 100644 .jupyter/lib/python3.9/site-packages/pip/_vendor/cachecontrol/caches/redis_cache.py\n",
      " create mode 100644 .jupyter/lib/python3.9/site-packages/pip/_vendor/cachecontrol/compat.py\n",
      " create mode 100644 .jupyter/lib/python3.9/site-packages/pip/_vendor/cachecontrol/controller.py\n",
      " create mode 100644 .jupyter/lib/python3.9/site-packages/pip/_vendor/cachecontrol/filewrapper.py\n",
      " create mode 100644 .jupyter/lib/python3.9/site-packages/pip/_vendor/cachecontrol/heuristics.py\n",
      " create mode 100644 .jupyter/lib/python3.9/site-packages/pip/_vendor/cachecontrol/serialize.py\n",
      " create mode 100644 .jupyter/lib/python3.9/site-packages/pip/_vendor/cachecontrol/wrapper.py\n",
      " create mode 100644 .jupyter/lib/python3.9/site-packages/pip/_vendor/certifi/__init__.py\n",
      " create mode 100644 .jupyter/lib/python3.9/site-packages/pip/_vendor/certifi/__main__.py\n",
      " create mode 100644 .jupyter/lib/python3.9/site-packages/pip/_vendor/certifi/cacert.pem\n",
      " create mode 100644 .jupyter/lib/python3.9/site-packages/pip/_vendor/certifi/core.py\n",
      " create mode 100644 .jupyter/lib/python3.9/site-packages/pip/_vendor/chardet/__init__.py\n",
      " create mode 100644 .jupyter/lib/python3.9/site-packages/pip/_vendor/chardet/big5freq.py\n",
      " create mode 100644 .jupyter/lib/python3.9/site-packages/pip/_vendor/chardet/big5prober.py\n",
      " create mode 100644 .jupyter/lib/python3.9/site-packages/pip/_vendor/chardet/chardistribution.py\n",
      " create mode 100644 .jupyter/lib/python3.9/site-packages/pip/_vendor/chardet/charsetgroupprober.py\n",
      " create mode 100644 .jupyter/lib/python3.9/site-packages/pip/_vendor/chardet/charsetprober.py\n",
      " create mode 100644 .jupyter/lib/python3.9/site-packages/pip/_vendor/chardet/cli/__init__.py\n",
      " create mode 100644 .jupyter/lib/python3.9/site-packages/pip/_vendor/chardet/cli/chardetect.py\n",
      " create mode 100644 .jupyter/lib/python3.9/site-packages/pip/_vendor/chardet/codingstatemachine.py\n",
      " create mode 100644 .jupyter/lib/python3.9/site-packages/pip/_vendor/chardet/compat.py\n",
      " create mode 100644 .jupyter/lib/python3.9/site-packages/pip/_vendor/chardet/cp949prober.py\n",
      " create mode 100644 .jupyter/lib/python3.9/site-packages/pip/_vendor/chardet/enums.py\n",
      " create mode 100644 .jupyter/lib/python3.9/site-packages/pip/_vendor/chardet/escprober.py\n",
      " create mode 100644 .jupyter/lib/python3.9/site-packages/pip/_vendor/chardet/escsm.py\n",
      " create mode 100644 .jupyter/lib/python3.9/site-packages/pip/_vendor/chardet/eucjpprober.py\n",
      " create mode 100644 .jupyter/lib/python3.9/site-packages/pip/_vendor/chardet/euckrfreq.py\n",
      " create mode 100644 .jupyter/lib/python3.9/site-packages/pip/_vendor/chardet/euckrprober.py\n",
      " create mode 100644 .jupyter/lib/python3.9/site-packages/pip/_vendor/chardet/euctwfreq.py\n",
      " create mode 100644 .jupyter/lib/python3.9/site-packages/pip/_vendor/chardet/euctwprober.py\n",
      " create mode 100644 .jupyter/lib/python3.9/site-packages/pip/_vendor/chardet/gb2312freq.py\n",
      " create mode 100644 .jupyter/lib/python3.9/site-packages/pip/_vendor/chardet/gb2312prober.py\n",
      " create mode 100644 .jupyter/lib/python3.9/site-packages/pip/_vendor/chardet/hebrewprober.py\n",
      " create mode 100644 .jupyter/lib/python3.9/site-packages/pip/_vendor/chardet/jisfreq.py\n",
      " create mode 100644 .jupyter/lib/python3.9/site-packages/pip/_vendor/chardet/jpcntx.py\n",
      " create mode 100644 .jupyter/lib/python3.9/site-packages/pip/_vendor/chardet/langbulgarianmodel.py\n",
      " create mode 100644 .jupyter/lib/python3.9/site-packages/pip/_vendor/chardet/langgreekmodel.py\n",
      " create mode 100644 .jupyter/lib/python3.9/site-packages/pip/_vendor/chardet/langhebrewmodel.py\n",
      " create mode 100644 .jupyter/lib/python3.9/site-packages/pip/_vendor/chardet/langhungarianmodel.py\n",
      " create mode 100644 .jupyter/lib/python3.9/site-packages/pip/_vendor/chardet/langrussianmodel.py\n",
      " create mode 100644 .jupyter/lib/python3.9/site-packages/pip/_vendor/chardet/langthaimodel.py\n",
      " create mode 100644 .jupyter/lib/python3.9/site-packages/pip/_vendor/chardet/langturkishmodel.py\n",
      " create mode 100644 .jupyter/lib/python3.9/site-packages/pip/_vendor/chardet/latin1prober.py\n",
      " create mode 100644 .jupyter/lib/python3.9/site-packages/pip/_vendor/chardet/mbcharsetprober.py\n",
      " create mode 100644 .jupyter/lib/python3.9/site-packages/pip/_vendor/chardet/mbcsgroupprober.py\n",
      " create mode 100644 .jupyter/lib/python3.9/site-packages/pip/_vendor/chardet/mbcssm.py\n",
      " create mode 100644 .jupyter/lib/python3.9/site-packages/pip/_vendor/chardet/metadata/__init__.py\n",
      " create mode 100644 .jupyter/lib/python3.9/site-packages/pip/_vendor/chardet/metadata/languages.py\n",
      " create mode 100644 .jupyter/lib/python3.9/site-packages/pip/_vendor/chardet/sbcharsetprober.py\n",
      " create mode 100644 .jupyter/lib/python3.9/site-packages/pip/_vendor/chardet/sbcsgroupprober.py\n",
      " create mode 100644 .jupyter/lib/python3.9/site-packages/pip/_vendor/chardet/sjisprober.py\n",
      " create mode 100644 .jupyter/lib/python3.9/site-packages/pip/_vendor/chardet/universaldetector.py\n",
      " create mode 100644 .jupyter/lib/python3.9/site-packages/pip/_vendor/chardet/utf8prober.py\n",
      " create mode 100644 .jupyter/lib/python3.9/site-packages/pip/_vendor/chardet/version.py\n",
      " create mode 100644 .jupyter/lib/python3.9/site-packages/pip/_vendor/colorama/__init__.py\n",
      " create mode 100644 .jupyter/lib/python3.9/site-packages/pip/_vendor/colorama/ansi.py\n",
      " create mode 100644 .jupyter/lib/python3.9/site-packages/pip/_vendor/colorama/ansitowin32.py\n",
      " create mode 100644 .jupyter/lib/python3.9/site-packages/pip/_vendor/colorama/initialise.py\n",
      " create mode 100644 .jupyter/lib/python3.9/site-packages/pip/_vendor/colorama/win32.py\n",
      " create mode 100644 .jupyter/lib/python3.9/site-packages/pip/_vendor/colorama/winterm.py\n",
      " create mode 100644 .jupyter/lib/python3.9/site-packages/pip/_vendor/distlib/__init__.py\n",
      " create mode 100644 .jupyter/lib/python3.9/site-packages/pip/_vendor/distlib/_backport/__init__.py\n",
      " create mode 100644 .jupyter/lib/python3.9/site-packages/pip/_vendor/distlib/_backport/misc.py\n",
      " create mode 100644 .jupyter/lib/python3.9/site-packages/pip/_vendor/distlib/_backport/shutil.py\n",
      " create mode 100644 .jupyter/lib/python3.9/site-packages/pip/_vendor/distlib/_backport/sysconfig.cfg\n",
      " create mode 100644 .jupyter/lib/python3.9/site-packages/pip/_vendor/distlib/_backport/sysconfig.py\n",
      " create mode 100644 .jupyter/lib/python3.9/site-packages/pip/_vendor/distlib/_backport/tarfile.py\n",
      " create mode 100644 .jupyter/lib/python3.9/site-packages/pip/_vendor/distlib/compat.py\n",
      " create mode 100644 .jupyter/lib/python3.9/site-packages/pip/_vendor/distlib/database.py\n",
      " create mode 100644 .jupyter/lib/python3.9/site-packages/pip/_vendor/distlib/index.py\n",
      " create mode 100644 .jupyter/lib/python3.9/site-packages/pip/_vendor/distlib/locators.py\n",
      " create mode 100644 .jupyter/lib/python3.9/site-packages/pip/_vendor/distlib/manifest.py\n",
      " create mode 100644 .jupyter/lib/python3.9/site-packages/pip/_vendor/distlib/markers.py\n",
      " create mode 100644 .jupyter/lib/python3.9/site-packages/pip/_vendor/distlib/metadata.py\n",
      " create mode 100644 .jupyter/lib/python3.9/site-packages/pip/_vendor/distlib/resources.py\n",
      " create mode 100644 .jupyter/lib/python3.9/site-packages/pip/_vendor/distlib/scripts.py\n",
      " create mode 100644 .jupyter/lib/python3.9/site-packages/pip/_vendor/distlib/t32.exe\n",
      " create mode 100644 .jupyter/lib/python3.9/site-packages/pip/_vendor/distlib/t64.exe\n",
      " create mode 100644 .jupyter/lib/python3.9/site-packages/pip/_vendor/distlib/util.py\n",
      " create mode 100644 .jupyter/lib/python3.9/site-packages/pip/_vendor/distlib/version.py\n",
      " create mode 100644 .jupyter/lib/python3.9/site-packages/pip/_vendor/distlib/w32.exe\n",
      " create mode 100644 .jupyter/lib/python3.9/site-packages/pip/_vendor/distlib/w64.exe\n",
      " create mode 100644 .jupyter/lib/python3.9/site-packages/pip/_vendor/distlib/wheel.py\n",
      " create mode 100644 .jupyter/lib/python3.9/site-packages/pip/_vendor/distro.py\n",
      " create mode 100644 .jupyter/lib/python3.9/site-packages/pip/_vendor/html5lib/__init__.py\n",
      " create mode 100644 .jupyter/lib/python3.9/site-packages/pip/_vendor/html5lib/_ihatexml.py\n",
      " create mode 100644 .jupyter/lib/python3.9/site-packages/pip/_vendor/html5lib/_inputstream.py\n",
      " create mode 100644 .jupyter/lib/python3.9/site-packages/pip/_vendor/html5lib/_tokenizer.py\n",
      " create mode 100644 .jupyter/lib/python3.9/site-packages/pip/_vendor/html5lib/_trie/__init__.py\n",
      " create mode 100644 .jupyter/lib/python3.9/site-packages/pip/_vendor/html5lib/_trie/_base.py\n",
      " create mode 100644 .jupyter/lib/python3.9/site-packages/pip/_vendor/html5lib/_trie/py.py\n",
      " create mode 100644 .jupyter/lib/python3.9/site-packages/pip/_vendor/html5lib/_utils.py\n",
      " create mode 100644 .jupyter/lib/python3.9/site-packages/pip/_vendor/html5lib/constants.py\n",
      " create mode 100644 .jupyter/lib/python3.9/site-packages/pip/_vendor/html5lib/filters/__init__.py\n",
      " create mode 100644 .jupyter/lib/python3.9/site-packages/pip/_vendor/html5lib/filters/alphabeticalattributes.py\n",
      " create mode 100644 .jupyter/lib/python3.9/site-packages/pip/_vendor/html5lib/filters/base.py\n",
      " create mode 100644 .jupyter/lib/python3.9/site-packages/pip/_vendor/html5lib/filters/inject_meta_charset.py\n",
      " create mode 100644 .jupyter/lib/python3.9/site-packages/pip/_vendor/html5lib/filters/lint.py\n",
      " create mode 100644 .jupyter/lib/python3.9/site-packages/pip/_vendor/html5lib/filters/optionaltags.py\n",
      " create mode 100644 .jupyter/lib/python3.9/site-packages/pip/_vendor/html5lib/filters/sanitizer.py\n",
      " create mode 100644 .jupyter/lib/python3.9/site-packages/pip/_vendor/html5lib/filters/whitespace.py\n",
      " create mode 100644 .jupyter/lib/python3.9/site-packages/pip/_vendor/html5lib/html5parser.py\n",
      " create mode 100644 .jupyter/lib/python3.9/site-packages/pip/_vendor/html5lib/serializer.py\n",
      " create mode 100644 .jupyter/lib/python3.9/site-packages/pip/_vendor/html5lib/treeadapters/__init__.py\n",
      " create mode 100644 .jupyter/lib/python3.9/site-packages/pip/_vendor/html5lib/treeadapters/genshi.py\n",
      " create mode 100644 .jupyter/lib/python3.9/site-packages/pip/_vendor/html5lib/treeadapters/sax.py\n",
      " create mode 100644 .jupyter/lib/python3.9/site-packages/pip/_vendor/html5lib/treebuilders/__init__.py\n",
      " create mode 100644 .jupyter/lib/python3.9/site-packages/pip/_vendor/html5lib/treebuilders/base.py\n",
      " create mode 100644 .jupyter/lib/python3.9/site-packages/pip/_vendor/html5lib/treebuilders/dom.py\n",
      " create mode 100644 .jupyter/lib/python3.9/site-packages/pip/_vendor/html5lib/treebuilders/etree.py\n",
      " create mode 100644 .jupyter/lib/python3.9/site-packages/pip/_vendor/html5lib/treebuilders/etree_lxml.py\n",
      " create mode 100644 .jupyter/lib/python3.9/site-packages/pip/_vendor/html5lib/treewalkers/__init__.py\n",
      " create mode 100644 .jupyter/lib/python3.9/site-packages/pip/_vendor/html5lib/treewalkers/base.py\n",
      " create mode 100644 .jupyter/lib/python3.9/site-packages/pip/_vendor/html5lib/treewalkers/dom.py\n",
      " create mode 100644 .jupyter/lib/python3.9/site-packages/pip/_vendor/html5lib/treewalkers/etree.py\n",
      " create mode 100644 .jupyter/lib/python3.9/site-packages/pip/_vendor/html5lib/treewalkers/etree_lxml.py\n",
      " create mode 100644 .jupyter/lib/python3.9/site-packages/pip/_vendor/html5lib/treewalkers/genshi.py\n",
      " create mode 100644 .jupyter/lib/python3.9/site-packages/pip/_vendor/idna/__init__.py\n",
      " create mode 100644 .jupyter/lib/python3.9/site-packages/pip/_vendor/idna/codec.py\n",
      " create mode 100644 .jupyter/lib/python3.9/site-packages/pip/_vendor/idna/compat.py\n",
      " create mode 100644 .jupyter/lib/python3.9/site-packages/pip/_vendor/idna/core.py\n",
      " create mode 100644 .jupyter/lib/python3.9/site-packages/pip/_vendor/idna/idnadata.py\n",
      " create mode 100644 .jupyter/lib/python3.9/site-packages/pip/_vendor/idna/intranges.py\n",
      " create mode 100644 .jupyter/lib/python3.9/site-packages/pip/_vendor/idna/package_data.py\n",
      " create mode 100644 .jupyter/lib/python3.9/site-packages/pip/_vendor/idna/uts46data.py\n",
      " create mode 100644 .jupyter/lib/python3.9/site-packages/pip/_vendor/msgpack/__init__.py\n",
      " create mode 100644 .jupyter/lib/python3.9/site-packages/pip/_vendor/msgpack/_version.py\n",
      " create mode 100644 .jupyter/lib/python3.9/site-packages/pip/_vendor/msgpack/exceptions.py\n",
      " create mode 100644 .jupyter/lib/python3.9/site-packages/pip/_vendor/msgpack/ext.py\n",
      " create mode 100644 .jupyter/lib/python3.9/site-packages/pip/_vendor/msgpack/fallback.py\n",
      " create mode 100644 .jupyter/lib/python3.9/site-packages/pip/_vendor/packaging/__about__.py\n",
      " create mode 100644 .jupyter/lib/python3.9/site-packages/pip/_vendor/packaging/__init__.py\n",
      " create mode 100644 .jupyter/lib/python3.9/site-packages/pip/_vendor/packaging/_manylinux.py\n",
      " create mode 100644 .jupyter/lib/python3.9/site-packages/pip/_vendor/packaging/_musllinux.py\n",
      " create mode 100644 .jupyter/lib/python3.9/site-packages/pip/_vendor/packaging/_structures.py\n",
      " create mode 100644 .jupyter/lib/python3.9/site-packages/pip/_vendor/packaging/markers.py\n",
      " create mode 100644 .jupyter/lib/python3.9/site-packages/pip/_vendor/packaging/requirements.py\n",
      " create mode 100644 .jupyter/lib/python3.9/site-packages/pip/_vendor/packaging/specifiers.py\n",
      " create mode 100644 .jupyter/lib/python3.9/site-packages/pip/_vendor/packaging/tags.py\n",
      " create mode 100644 .jupyter/lib/python3.9/site-packages/pip/_vendor/packaging/utils.py\n",
      " create mode 100644 .jupyter/lib/python3.9/site-packages/pip/_vendor/packaging/version.py\n",
      " create mode 100644 .jupyter/lib/python3.9/site-packages/pip/_vendor/pep517/__init__.py\n",
      " create mode 100644 .jupyter/lib/python3.9/site-packages/pip/_vendor/pep517/build.py\n",
      " create mode 100644 .jupyter/lib/python3.9/site-packages/pip/_vendor/pep517/check.py\n",
      " create mode 100644 .jupyter/lib/python3.9/site-packages/pip/_vendor/pep517/colorlog.py\n",
      " create mode 100644 .jupyter/lib/python3.9/site-packages/pip/_vendor/pep517/compat.py\n",
      " create mode 100644 .jupyter/lib/python3.9/site-packages/pip/_vendor/pep517/dirtools.py\n",
      " create mode 100644 .jupyter/lib/python3.9/site-packages/pip/_vendor/pep517/envbuild.py\n",
      " create mode 100644 .jupyter/lib/python3.9/site-packages/pip/_vendor/pep517/in_process/__init__.py\n",
      " create mode 100644 .jupyter/lib/python3.9/site-packages/pip/_vendor/pep517/in_process/_in_process.py\n",
      " create mode 100644 .jupyter/lib/python3.9/site-packages/pip/_vendor/pep517/meta.py\n",
      " create mode 100644 .jupyter/lib/python3.9/site-packages/pip/_vendor/pep517/wrappers.py\n",
      " create mode 100644 .jupyter/lib/python3.9/site-packages/pip/_vendor/pkg_resources/__init__.py\n",
      " create mode 100644 .jupyter/lib/python3.9/site-packages/pip/_vendor/pkg_resources/py31compat.py\n",
      " create mode 100644 .jupyter/lib/python3.9/site-packages/pip/_vendor/progress/__init__.py\n",
      " create mode 100644 .jupyter/lib/python3.9/site-packages/pip/_vendor/progress/bar.py\n",
      " create mode 100644 .jupyter/lib/python3.9/site-packages/pip/_vendor/progress/counter.py\n",
      " create mode 100644 .jupyter/lib/python3.9/site-packages/pip/_vendor/progress/spinner.py\n",
      " create mode 100644 .jupyter/lib/python3.9/site-packages/pip/_vendor/pyparsing.py\n",
      " create mode 100644 .jupyter/lib/python3.9/site-packages/pip/_vendor/requests/__init__.py\n",
      " create mode 100644 .jupyter/lib/python3.9/site-packages/pip/_vendor/requests/__version__.py\n",
      " create mode 100644 .jupyter/lib/python3.9/site-packages/pip/_vendor/requests/_internal_utils.py\n",
      " create mode 100644 .jupyter/lib/python3.9/site-packages/pip/_vendor/requests/adapters.py\n",
      " create mode 100644 .jupyter/lib/python3.9/site-packages/pip/_vendor/requests/api.py\n",
      " create mode 100644 .jupyter/lib/python3.9/site-packages/pip/_vendor/requests/auth.py\n",
      " create mode 100644 .jupyter/lib/python3.9/site-packages/pip/_vendor/requests/certs.py\n",
      " create mode 100644 .jupyter/lib/python3.9/site-packages/pip/_vendor/requests/compat.py\n",
      " create mode 100644 .jupyter/lib/python3.9/site-packages/pip/_vendor/requests/cookies.py\n",
      " create mode 100644 .jupyter/lib/python3.9/site-packages/pip/_vendor/requests/exceptions.py\n",
      " create mode 100644 .jupyter/lib/python3.9/site-packages/pip/_vendor/requests/help.py\n",
      " create mode 100644 .jupyter/lib/python3.9/site-packages/pip/_vendor/requests/hooks.py\n",
      " create mode 100644 .jupyter/lib/python3.9/site-packages/pip/_vendor/requests/models.py\n",
      " create mode 100644 .jupyter/lib/python3.9/site-packages/pip/_vendor/requests/packages.py\n",
      " create mode 100644 .jupyter/lib/python3.9/site-packages/pip/_vendor/requests/sessions.py\n",
      " create mode 100644 .jupyter/lib/python3.9/site-packages/pip/_vendor/requests/status_codes.py\n",
      " create mode 100644 .jupyter/lib/python3.9/site-packages/pip/_vendor/requests/structures.py\n",
      " create mode 100644 .jupyter/lib/python3.9/site-packages/pip/_vendor/requests/utils.py\n",
      " create mode 100644 .jupyter/lib/python3.9/site-packages/pip/_vendor/resolvelib/__init__.py\n",
      " create mode 100644 .jupyter/lib/python3.9/site-packages/pip/_vendor/resolvelib/compat/__init__.py\n",
      " create mode 100644 .jupyter/lib/python3.9/site-packages/pip/_vendor/resolvelib/compat/collections_abc.py\n",
      " create mode 100644 .jupyter/lib/python3.9/site-packages/pip/_vendor/resolvelib/providers.py\n",
      " create mode 100644 .jupyter/lib/python3.9/site-packages/pip/_vendor/resolvelib/reporters.py\n",
      " create mode 100644 .jupyter/lib/python3.9/site-packages/pip/_vendor/resolvelib/resolvers.py\n",
      " create mode 100644 .jupyter/lib/python3.9/site-packages/pip/_vendor/resolvelib/structs.py\n",
      " create mode 100644 .jupyter/lib/python3.9/site-packages/pip/_vendor/six.py\n",
      " create mode 100644 .jupyter/lib/python3.9/site-packages/pip/_vendor/tenacity/__init__.py\n",
      " create mode 100644 .jupyter/lib/python3.9/site-packages/pip/_vendor/tenacity/_asyncio.py\n",
      " create mode 100644 .jupyter/lib/python3.9/site-packages/pip/_vendor/tenacity/_utils.py\n",
      " create mode 100644 .jupyter/lib/python3.9/site-packages/pip/_vendor/tenacity/after.py\n",
      " create mode 100644 .jupyter/lib/python3.9/site-packages/pip/_vendor/tenacity/before.py\n",
      " create mode 100644 .jupyter/lib/python3.9/site-packages/pip/_vendor/tenacity/before_sleep.py\n",
      " create mode 100644 .jupyter/lib/python3.9/site-packages/pip/_vendor/tenacity/nap.py\n",
      " create mode 100644 .jupyter/lib/python3.9/site-packages/pip/_vendor/tenacity/retry.py\n",
      " create mode 100644 .jupyter/lib/python3.9/site-packages/pip/_vendor/tenacity/stop.py\n",
      " create mode 100644 .jupyter/lib/python3.9/site-packages/pip/_vendor/tenacity/tornadoweb.py\n",
      " create mode 100644 .jupyter/lib/python3.9/site-packages/pip/_vendor/tenacity/wait.py\n",
      " create mode 100644 .jupyter/lib/python3.9/site-packages/pip/_vendor/tomli/__init__.py\n",
      " create mode 100644 .jupyter/lib/python3.9/site-packages/pip/_vendor/tomli/_parser.py\n",
      " create mode 100644 .jupyter/lib/python3.9/site-packages/pip/_vendor/tomli/_re.py\n",
      " create mode 100644 .jupyter/lib/python3.9/site-packages/pip/_vendor/urllib3/__init__.py\n",
      " create mode 100644 .jupyter/lib/python3.9/site-packages/pip/_vendor/urllib3/_collections.py\n",
      " create mode 100644 .jupyter/lib/python3.9/site-packages/pip/_vendor/urllib3/_version.py\n",
      " create mode 100644 .jupyter/lib/python3.9/site-packages/pip/_vendor/urllib3/connection.py\n",
      " create mode 100644 .jupyter/lib/python3.9/site-packages/pip/_vendor/urllib3/connectionpool.py\n",
      " create mode 100644 .jupyter/lib/python3.9/site-packages/pip/_vendor/urllib3/contrib/__init__.py\n",
      " create mode 100644 .jupyter/lib/python3.9/site-packages/pip/_vendor/urllib3/contrib/_appengine_environ.py\n",
      " create mode 100644 .jupyter/lib/python3.9/site-packages/pip/_vendor/urllib3/contrib/_securetransport/__init__.py\n",
      " create mode 100644 .jupyter/lib/python3.9/site-packages/pip/_vendor/urllib3/contrib/_securetransport/bindings.py\n",
      " create mode 100644 .jupyter/lib/python3.9/site-packages/pip/_vendor/urllib3/contrib/_securetransport/low_level.py\n",
      " create mode 100644 .jupyter/lib/python3.9/site-packages/pip/_vendor/urllib3/contrib/appengine.py\n",
      " create mode 100644 .jupyter/lib/python3.9/site-packages/pip/_vendor/urllib3/contrib/ntlmpool.py\n",
      " create mode 100644 .jupyter/lib/python3.9/site-packages/pip/_vendor/urllib3/contrib/pyopenssl.py\n",
      " create mode 100644 .jupyter/lib/python3.9/site-packages/pip/_vendor/urllib3/contrib/securetransport.py\n",
      " create mode 100644 .jupyter/lib/python3.9/site-packages/pip/_vendor/urllib3/contrib/socks.py\n",
      " create mode 100644 .jupyter/lib/python3.9/site-packages/pip/_vendor/urllib3/exceptions.py\n",
      " create mode 100644 .jupyter/lib/python3.9/site-packages/pip/_vendor/urllib3/fields.py\n",
      " create mode 100644 .jupyter/lib/python3.9/site-packages/pip/_vendor/urllib3/filepost.py\n",
      " create mode 100644 .jupyter/lib/python3.9/site-packages/pip/_vendor/urllib3/packages/__init__.py\n",
      " create mode 100644 .jupyter/lib/python3.9/site-packages/pip/_vendor/urllib3/packages/backports/__init__.py\n",
      " create mode 100644 .jupyter/lib/python3.9/site-packages/pip/_vendor/urllib3/packages/backports/makefile.py\n",
      " create mode 100644 .jupyter/lib/python3.9/site-packages/pip/_vendor/urllib3/packages/six.py\n",
      " create mode 100644 .jupyter/lib/python3.9/site-packages/pip/_vendor/urllib3/packages/ssl_match_hostname/__init__.py\n",
      " create mode 100644 .jupyter/lib/python3.9/site-packages/pip/_vendor/urllib3/packages/ssl_match_hostname/_implementation.py\n",
      " create mode 100644 .jupyter/lib/python3.9/site-packages/pip/_vendor/urllib3/poolmanager.py\n",
      " create mode 100644 .jupyter/lib/python3.9/site-packages/pip/_vendor/urllib3/request.py\n",
      " create mode 100644 .jupyter/lib/python3.9/site-packages/pip/_vendor/urllib3/response.py\n",
      " create mode 100644 .jupyter/lib/python3.9/site-packages/pip/_vendor/urllib3/util/__init__.py\n",
      " create mode 100644 .jupyter/lib/python3.9/site-packages/pip/_vendor/urllib3/util/connection.py\n",
      " create mode 100644 .jupyter/lib/python3.9/site-packages/pip/_vendor/urllib3/util/proxy.py\n",
      " create mode 100644 .jupyter/lib/python3.9/site-packages/pip/_vendor/urllib3/util/queue.py\n",
      " create mode 100644 .jupyter/lib/python3.9/site-packages/pip/_vendor/urllib3/util/request.py\n",
      " create mode 100644 .jupyter/lib/python3.9/site-packages/pip/_vendor/urllib3/util/response.py\n",
      " create mode 100644 .jupyter/lib/python3.9/site-packages/pip/_vendor/urllib3/util/retry.py\n",
      " create mode 100644 .jupyter/lib/python3.9/site-packages/pip/_vendor/urllib3/util/ssl_.py\n",
      " create mode 100644 .jupyter/lib/python3.9/site-packages/pip/_vendor/urllib3/util/ssltransport.py\n",
      " create mode 100644 .jupyter/lib/python3.9/site-packages/pip/_vendor/urllib3/util/timeout.py\n",
      " create mode 100644 .jupyter/lib/python3.9/site-packages/pip/_vendor/urllib3/util/url.py\n",
      " create mode 100644 .jupyter/lib/python3.9/site-packages/pip/_vendor/urllib3/util/wait.py\n",
      " create mode 100644 .jupyter/lib/python3.9/site-packages/pip/_vendor/vendor.txt\n",
      " create mode 100644 .jupyter/lib/python3.9/site-packages/pip/_vendor/webencodings/__init__.py\n",
      " create mode 100644 .jupyter/lib/python3.9/site-packages/pip/_vendor/webencodings/labels.py\n",
      " create mode 100644 .jupyter/lib/python3.9/site-packages/pip/_vendor/webencodings/mklabels.py\n",
      " create mode 100644 .jupyter/lib/python3.9/site-packages/pip/_vendor/webencodings/tests.py\n",
      " create mode 100644 .jupyter/lib/python3.9/site-packages/pip/_vendor/webencodings/x_user_defined.py\n",
      " create mode 100644 .jupyter/lib/python3.9/site-packages/pip/py.typed\n",
      " create mode 100644 .jupyter/lib/python3.9/site-packages/pkg_resources/__init__.py\n",
      " create mode 100644 .jupyter/lib/python3.9/site-packages/pkg_resources/_vendor/__init__.py\n",
      " create mode 100644 .jupyter/lib/python3.9/site-packages/pkg_resources/_vendor/appdirs.py\n",
      " create mode 100644 .jupyter/lib/python3.9/site-packages/pkg_resources/_vendor/packaging/__about__.py\n",
      " create mode 100644 .jupyter/lib/python3.9/site-packages/pkg_resources/_vendor/packaging/__init__.py\n",
      " create mode 100644 .jupyter/lib/python3.9/site-packages/pkg_resources/_vendor/packaging/_compat.py\n",
      " create mode 100644 .jupyter/lib/python3.9/site-packages/pkg_resources/_vendor/packaging/_structures.py\n",
      " create mode 100644 .jupyter/lib/python3.9/site-packages/pkg_resources/_vendor/packaging/_typing.py\n",
      " create mode 100644 .jupyter/lib/python3.9/site-packages/pkg_resources/_vendor/packaging/markers.py\n",
      " create mode 100644 .jupyter/lib/python3.9/site-packages/pkg_resources/_vendor/packaging/requirements.py\n",
      " create mode 100644 .jupyter/lib/python3.9/site-packages/pkg_resources/_vendor/packaging/specifiers.py\n",
      " create mode 100644 .jupyter/lib/python3.9/site-packages/pkg_resources/_vendor/packaging/tags.py\n",
      " create mode 100644 .jupyter/lib/python3.9/site-packages/pkg_resources/_vendor/packaging/utils.py\n",
      " create mode 100644 .jupyter/lib/python3.9/site-packages/pkg_resources/_vendor/packaging/version.py\n",
      " create mode 100644 .jupyter/lib/python3.9/site-packages/pkg_resources/_vendor/pyparsing.py\n",
      " create mode 100644 .jupyter/lib/python3.9/site-packages/pkg_resources/extern/__init__.py\n",
      " create mode 100644 .jupyter/lib/python3.9/site-packages/pkg_resources/tests/data/my-test-package-source/setup.py\n",
      " create mode 100644 .jupyter/lib/python3.9/site-packages/setuptools-57.4.0.dist-info/INSTALLER\n",
      " create mode 100644 .jupyter/lib/python3.9/site-packages/setuptools-57.4.0.dist-info/LICENSE\n",
      " create mode 100644 .jupyter/lib/python3.9/site-packages/setuptools-57.4.0.dist-info/METADATA\n",
      " create mode 100644 .jupyter/lib/python3.9/site-packages/setuptools-57.4.0.dist-info/RECORD\n",
      " create mode 100644 .jupyter/lib/python3.9/site-packages/setuptools-57.4.0.dist-info/REQUESTED\n",
      " create mode 100644 .jupyter/lib/python3.9/site-packages/setuptools-57.4.0.dist-info/WHEEL\n",
      " create mode 100644 .jupyter/lib/python3.9/site-packages/setuptools-57.4.0.dist-info/entry_points.txt\n",
      " create mode 100644 .jupyter/lib/python3.9/site-packages/setuptools-57.4.0.dist-info/top_level.txt\n",
      " create mode 100644 .jupyter/lib/python3.9/site-packages/setuptools/__init__.py\n",
      " create mode 100644 .jupyter/lib/python3.9/site-packages/setuptools/_deprecation_warning.py\n",
      " create mode 100644 .jupyter/lib/python3.9/site-packages/setuptools/_distutils/__init__.py\n",
      " create mode 100644 .jupyter/lib/python3.9/site-packages/setuptools/_distutils/_msvccompiler.py\n",
      " create mode 100644 .jupyter/lib/python3.9/site-packages/setuptools/_distutils/archive_util.py\n",
      " create mode 100644 .jupyter/lib/python3.9/site-packages/setuptools/_distutils/bcppcompiler.py\n",
      " create mode 100644 .jupyter/lib/python3.9/site-packages/setuptools/_distutils/ccompiler.py\n",
      " create mode 100644 .jupyter/lib/python3.9/site-packages/setuptools/_distutils/cmd.py\n",
      " create mode 100644 .jupyter/lib/python3.9/site-packages/setuptools/_distutils/command/__init__.py\n",
      " create mode 100644 .jupyter/lib/python3.9/site-packages/setuptools/_distutils/command/bdist.py\n",
      " create mode 100644 .jupyter/lib/python3.9/site-packages/setuptools/_distutils/command/bdist_dumb.py\n",
      " create mode 100644 .jupyter/lib/python3.9/site-packages/setuptools/_distutils/command/bdist_msi.py\n",
      " create mode 100644 .jupyter/lib/python3.9/site-packages/setuptools/_distutils/command/bdist_rpm.py\n",
      " create mode 100644 .jupyter/lib/python3.9/site-packages/setuptools/_distutils/command/bdist_wininst.py\n",
      " create mode 100644 .jupyter/lib/python3.9/site-packages/setuptools/_distutils/command/build.py\n",
      " create mode 100644 .jupyter/lib/python3.9/site-packages/setuptools/_distutils/command/build_clib.py\n",
      " create mode 100644 .jupyter/lib/python3.9/site-packages/setuptools/_distutils/command/build_ext.py\n",
      " create mode 100644 .jupyter/lib/python3.9/site-packages/setuptools/_distutils/command/build_py.py\n",
      " create mode 100644 .jupyter/lib/python3.9/site-packages/setuptools/_distutils/command/build_scripts.py\n",
      " create mode 100644 .jupyter/lib/python3.9/site-packages/setuptools/_distutils/command/check.py\n",
      " create mode 100644 .jupyter/lib/python3.9/site-packages/setuptools/_distutils/command/clean.py\n",
      " create mode 100644 .jupyter/lib/python3.9/site-packages/setuptools/_distutils/command/config.py\n",
      " create mode 100644 .jupyter/lib/python3.9/site-packages/setuptools/_distutils/command/install.py\n",
      " create mode 100644 .jupyter/lib/python3.9/site-packages/setuptools/_distutils/command/install_data.py\n",
      " create mode 100644 .jupyter/lib/python3.9/site-packages/setuptools/_distutils/command/install_egg_info.py\n",
      " create mode 100644 .jupyter/lib/python3.9/site-packages/setuptools/_distutils/command/install_headers.py\n",
      " create mode 100644 .jupyter/lib/python3.9/site-packages/setuptools/_distutils/command/install_lib.py\n",
      " create mode 100644 .jupyter/lib/python3.9/site-packages/setuptools/_distutils/command/install_scripts.py\n",
      " create mode 100644 .jupyter/lib/python3.9/site-packages/setuptools/_distutils/command/py37compat.py\n",
      " create mode 100644 .jupyter/lib/python3.9/site-packages/setuptools/_distutils/command/register.py\n",
      " create mode 100644 .jupyter/lib/python3.9/site-packages/setuptools/_distutils/command/sdist.py\n",
      " create mode 100644 .jupyter/lib/python3.9/site-packages/setuptools/_distutils/command/upload.py\n",
      " create mode 100644 .jupyter/lib/python3.9/site-packages/setuptools/_distutils/config.py\n",
      " create mode 100644 .jupyter/lib/python3.9/site-packages/setuptools/_distutils/core.py\n",
      " create mode 100644 .jupyter/lib/python3.9/site-packages/setuptools/_distutils/cygwinccompiler.py\n",
      " create mode 100644 .jupyter/lib/python3.9/site-packages/setuptools/_distutils/debug.py\n",
      " create mode 100644 .jupyter/lib/python3.9/site-packages/setuptools/_distutils/dep_util.py\n",
      " create mode 100644 .jupyter/lib/python3.9/site-packages/setuptools/_distutils/dir_util.py\n",
      " create mode 100644 .jupyter/lib/python3.9/site-packages/setuptools/_distutils/dist.py\n",
      " create mode 100644 .jupyter/lib/python3.9/site-packages/setuptools/_distutils/errors.py\n",
      " create mode 100644 .jupyter/lib/python3.9/site-packages/setuptools/_distutils/extension.py\n",
      " create mode 100644 .jupyter/lib/python3.9/site-packages/setuptools/_distutils/fancy_getopt.py\n",
      " create mode 100644 .jupyter/lib/python3.9/site-packages/setuptools/_distutils/file_util.py\n",
      " create mode 100644 .jupyter/lib/python3.9/site-packages/setuptools/_distutils/filelist.py\n",
      " create mode 100644 .jupyter/lib/python3.9/site-packages/setuptools/_distutils/log.py\n",
      " create mode 100644 .jupyter/lib/python3.9/site-packages/setuptools/_distutils/msvc9compiler.py\n",
      " create mode 100644 .jupyter/lib/python3.9/site-packages/setuptools/_distutils/msvccompiler.py\n",
      " create mode 100644 .jupyter/lib/python3.9/site-packages/setuptools/_distutils/py35compat.py\n",
      " create mode 100644 .jupyter/lib/python3.9/site-packages/setuptools/_distutils/py38compat.py\n",
      " create mode 100644 .jupyter/lib/python3.9/site-packages/setuptools/_distutils/spawn.py\n",
      " create mode 100644 .jupyter/lib/python3.9/site-packages/setuptools/_distutils/sysconfig.py\n",
      " create mode 100644 .jupyter/lib/python3.9/site-packages/setuptools/_distutils/text_file.py\n",
      " create mode 100644 .jupyter/lib/python3.9/site-packages/setuptools/_distutils/unixccompiler.py\n",
      " create mode 100644 .jupyter/lib/python3.9/site-packages/setuptools/_distutils/util.py\n",
      " create mode 100644 .jupyter/lib/python3.9/site-packages/setuptools/_distutils/version.py\n",
      " create mode 100644 .jupyter/lib/python3.9/site-packages/setuptools/_distutils/versionpredicate.py\n",
      " create mode 100644 .jupyter/lib/python3.9/site-packages/setuptools/_imp.py\n",
      " create mode 100644 .jupyter/lib/python3.9/site-packages/setuptools/_vendor/__init__.py\n",
      " create mode 100644 .jupyter/lib/python3.9/site-packages/setuptools/_vendor/more_itertools/__init__.py\n",
      " create mode 100644 .jupyter/lib/python3.9/site-packages/setuptools/_vendor/more_itertools/more.py\n",
      " create mode 100644 .jupyter/lib/python3.9/site-packages/setuptools/_vendor/more_itertools/recipes.py\n",
      " create mode 100644 .jupyter/lib/python3.9/site-packages/setuptools/_vendor/ordered_set.py\n",
      " create mode 100644 .jupyter/lib/python3.9/site-packages/setuptools/_vendor/packaging/__about__.py\n",
      " create mode 100644 .jupyter/lib/python3.9/site-packages/setuptools/_vendor/packaging/__init__.py\n",
      " create mode 100644 .jupyter/lib/python3.9/site-packages/setuptools/_vendor/packaging/_compat.py\n",
      " create mode 100644 .jupyter/lib/python3.9/site-packages/setuptools/_vendor/packaging/_structures.py\n",
      " create mode 100644 .jupyter/lib/python3.9/site-packages/setuptools/_vendor/packaging/_typing.py\n",
      " create mode 100644 .jupyter/lib/python3.9/site-packages/setuptools/_vendor/packaging/markers.py\n",
      " create mode 100644 .jupyter/lib/python3.9/site-packages/setuptools/_vendor/packaging/requirements.py\n",
      " create mode 100644 .jupyter/lib/python3.9/site-packages/setuptools/_vendor/packaging/specifiers.py\n",
      " create mode 100644 .jupyter/lib/python3.9/site-packages/setuptools/_vendor/packaging/tags.py\n",
      " create mode 100644 .jupyter/lib/python3.9/site-packages/setuptools/_vendor/packaging/utils.py\n",
      " create mode 100644 .jupyter/lib/python3.9/site-packages/setuptools/_vendor/packaging/version.py\n",
      " create mode 100644 .jupyter/lib/python3.9/site-packages/setuptools/_vendor/pyparsing.py\n",
      " create mode 100644 .jupyter/lib/python3.9/site-packages/setuptools/archive_util.py\n",
      " create mode 100644 .jupyter/lib/python3.9/site-packages/setuptools/build_meta.py\n",
      " create mode 100644 .jupyter/lib/python3.9/site-packages/setuptools/cli-32.exe\n",
      " create mode 100644 .jupyter/lib/python3.9/site-packages/setuptools/cli-64.exe\n",
      " create mode 100644 .jupyter/lib/python3.9/site-packages/setuptools/cli.exe\n",
      " create mode 100644 .jupyter/lib/python3.9/site-packages/setuptools/command/__init__.py\n",
      " create mode 100644 .jupyter/lib/python3.9/site-packages/setuptools/command/alias.py\n",
      " create mode 100644 .jupyter/lib/python3.9/site-packages/setuptools/command/bdist_egg.py\n",
      " create mode 100644 .jupyter/lib/python3.9/site-packages/setuptools/command/bdist_rpm.py\n",
      " create mode 100644 .jupyter/lib/python3.9/site-packages/setuptools/command/build_clib.py\n",
      " create mode 100644 .jupyter/lib/python3.9/site-packages/setuptools/command/build_ext.py\n",
      " create mode 100644 .jupyter/lib/python3.9/site-packages/setuptools/command/build_py.py\n",
      " create mode 100644 .jupyter/lib/python3.9/site-packages/setuptools/command/develop.py\n",
      " create mode 100644 .jupyter/lib/python3.9/site-packages/setuptools/command/dist_info.py\n",
      " create mode 100644 .jupyter/lib/python3.9/site-packages/setuptools/command/easy_install.py\n",
      " create mode 100644 .jupyter/lib/python3.9/site-packages/setuptools/command/egg_info.py\n",
      " create mode 100644 .jupyter/lib/python3.9/site-packages/setuptools/command/install.py\n",
      " create mode 100644 .jupyter/lib/python3.9/site-packages/setuptools/command/install_egg_info.py\n",
      " create mode 100644 .jupyter/lib/python3.9/site-packages/setuptools/command/install_lib.py\n",
      " create mode 100644 .jupyter/lib/python3.9/site-packages/setuptools/command/install_scripts.py\n",
      " create mode 100644 .jupyter/lib/python3.9/site-packages/setuptools/command/launcher manifest.xml\n",
      " create mode 100644 .jupyter/lib/python3.9/site-packages/setuptools/command/py36compat.py\n",
      " create mode 100644 .jupyter/lib/python3.9/site-packages/setuptools/command/register.py\n",
      " create mode 100644 .jupyter/lib/python3.9/site-packages/setuptools/command/rotate.py\n",
      " create mode 100644 .jupyter/lib/python3.9/site-packages/setuptools/command/saveopts.py\n",
      " create mode 100644 .jupyter/lib/python3.9/site-packages/setuptools/command/sdist.py\n",
      " create mode 100644 .jupyter/lib/python3.9/site-packages/setuptools/command/setopt.py\n",
      " create mode 100644 .jupyter/lib/python3.9/site-packages/setuptools/command/test.py\n",
      " create mode 100644 .jupyter/lib/python3.9/site-packages/setuptools/command/upload.py\n",
      " create mode 100644 .jupyter/lib/python3.9/site-packages/setuptools/command/upload_docs.py\n",
      " create mode 100644 .jupyter/lib/python3.9/site-packages/setuptools/config.py\n",
      " create mode 100644 .jupyter/lib/python3.9/site-packages/setuptools/dep_util.py\n",
      " create mode 100644 .jupyter/lib/python3.9/site-packages/setuptools/depends.py\n",
      " create mode 100644 .jupyter/lib/python3.9/site-packages/setuptools/dist.py\n",
      " create mode 100644 .jupyter/lib/python3.9/site-packages/setuptools/errors.py\n",
      " create mode 100644 .jupyter/lib/python3.9/site-packages/setuptools/extension.py\n",
      " create mode 100644 .jupyter/lib/python3.9/site-packages/setuptools/extern/__init__.py\n",
      " create mode 100644 .jupyter/lib/python3.9/site-packages/setuptools/glob.py\n",
      " create mode 100644 .jupyter/lib/python3.9/site-packages/setuptools/gui-32.exe\n",
      " create mode 100644 .jupyter/lib/python3.9/site-packages/setuptools/gui-64.exe\n",
      " create mode 100644 .jupyter/lib/python3.9/site-packages/setuptools/gui.exe\n",
      " create mode 100644 .jupyter/lib/python3.9/site-packages/setuptools/installer.py\n",
      " create mode 100644 .jupyter/lib/python3.9/site-packages/setuptools/launch.py\n",
      " create mode 100644 .jupyter/lib/python3.9/site-packages/setuptools/lib2to3_ex.py\n",
      " create mode 100644 .jupyter/lib/python3.9/site-packages/setuptools/monkey.py\n",
      " create mode 100644 .jupyter/lib/python3.9/site-packages/setuptools/msvc.py\n",
      " create mode 100644 .jupyter/lib/python3.9/site-packages/setuptools/namespaces.py\n",
      " create mode 100644 .jupyter/lib/python3.9/site-packages/setuptools/package_index.py\n",
      " create mode 100644 .jupyter/lib/python3.9/site-packages/setuptools/py34compat.py\n",
      " create mode 100644 .jupyter/lib/python3.9/site-packages/setuptools/sandbox.py\n",
      " create mode 100644 .jupyter/lib/python3.9/site-packages/setuptools/script (dev).tmpl\n",
      " create mode 100644 .jupyter/lib/python3.9/site-packages/setuptools/script.tmpl\n",
      " create mode 100644 .jupyter/lib/python3.9/site-packages/setuptools/unicode_utils.py\n",
      " create mode 100644 .jupyter/lib/python3.9/site-packages/setuptools/version.py\n",
      " create mode 100644 .jupyter/lib/python3.9/site-packages/setuptools/wheel.py\n",
      " create mode 100644 .jupyter/lib/python3.9/site-packages/setuptools/windows_support.py\n",
      " create mode 120000 .jupyter/lib64\n",
      " create mode 100644 .jupyter/pyvenv.cfg\n",
      " create mode 100644 .vscode/arm_toolchain.json\n",
      " create mode 100644 .vscode/launch.json\n"
     ]
    }
   ],
   "source": [
    "%%bash\n",
    "\n",
    "git add .\n",
    "git commit -m \"Initialize DVC\""
   ]
  },
  {
   "cell_type": "markdown",
   "metadata": {},
   "source": [
    "## Review Files and Directories created by DVC"
   ]
  },
  {
   "cell_type": "code",
   "execution_count": 4,
   "metadata": {
    "ExecuteTime": {
     "end_time": "2020-06-07T15:44:02.848188Z",
     "start_time": "2020-06-07T15:44:02.729793Z"
    }
   },
   "outputs": [
    {
     "name": "stdout",
     "output_type": "stream",
     "text": [
      ".  ..  config  .gitignore  plots  tmp\n"
     ]
    }
   ],
   "source": [
    "!ls -a .dvc "
   ]
  },
  {
   "cell_type": "code",
   "execution_count": 10,
   "metadata": {
    "ExecuteTime": {
     "end_time": "2020-06-07T15:47:30.242894Z",
     "start_time": "2020-06-07T15:47:30.122806Z"
    }
   },
   "outputs": [
    {
     "name": "stdout",
     "output_type": "stream",
     "text": [
      "/config.local\n",
      "/tmp\n",
      "/cache\n"
     ]
    }
   ],
   "source": [
    "!cat .dvc/.gitignore"
   ]
  },
  {
   "cell_type": "markdown",
   "metadata": {},
   "source": [
    "# Quick Tour of DVC features"
   ]
  },
  {
   "cell_type": "markdown",
   "metadata": {},
   "source": [
    "## Data Versioning"
   ]
  },
  {
   "cell_type": "code",
   "execution_count": 6,
   "metadata": {
    "ExecuteTime": {
     "end_time": "2020-06-07T17:06:11.216221Z",
     "start_time": "2020-06-07T17:06:11.173316Z"
    },
    "scrolled": true
   },
   "outputs": [
    {
     "ename": "ModuleNotFoundError",
     "evalue": "No module named 'pandas'",
     "output_type": "error",
     "traceback": [
      "\u001b[0;31m---------------------------------------------------------------------------\u001b[0m",
      "\u001b[0;31mModuleNotFoundError\u001b[0m                       Traceback (most recent call last)",
      "Cell \u001b[0;32mIn [6], line 3\u001b[0m\n\u001b[1;32m      1\u001b[0m \u001b[38;5;66;03m# Get data \u001b[39;00m\n\u001b[0;32m----> 3\u001b[0m \u001b[38;5;28;01mimport\u001b[39;00m \u001b[38;5;21;01mpandas\u001b[39;00m \u001b[38;5;28;01mas\u001b[39;00m \u001b[38;5;21;01mpd\u001b[39;00m\n\u001b[1;32m      4\u001b[0m \u001b[38;5;28;01mfrom\u001b[39;00m \u001b[38;5;21;01msklearn\u001b[39;00m\u001b[38;5;21;01m.\u001b[39;00m\u001b[38;5;21;01mdatasets\u001b[39;00m \u001b[38;5;28;01mimport\u001b[39;00m load_iris\n\u001b[1;32m      6\u001b[0m data \u001b[38;5;241m=\u001b[39m load_iris(as_frame\u001b[38;5;241m=\u001b[39m\u001b[38;5;28;01mTrue\u001b[39;00m)\n",
      "\u001b[0;31mModuleNotFoundError\u001b[0m: No module named 'pandas'"
     ]
    }
   ],
   "source": [
    "# Get data \n",
    "\n",
    "import pandas as pd\n",
    "from sklearn.datasets import load_iris\n",
    "\n",
    "data = load_iris(as_frame=True)\n",
    "list(data.target_names)\n",
    "data.frame.to_csv('data/iris.csv', index=False)"
   ]
  },
  {
   "cell_type": "code",
   "execution_count": 9,
   "metadata": {
    "ExecuteTime": {
     "end_time": "2020-06-07T16:39:05.495085Z",
     "start_time": "2020-06-07T16:39:05.486370Z"
    }
   },
   "outputs": [
    {
     "ename": "NameError",
     "evalue": "name 'data' is not defined",
     "output_type": "error",
     "traceback": [
      "\u001b[0;31m---------------------------------------------------------------------------\u001b[0m",
      "\u001b[0;31mNameError\u001b[0m                                 Traceback (most recent call last)",
      "Cell \u001b[0;32mIn [9], line 3\u001b[0m\n\u001b[1;32m      1\u001b[0m \u001b[38;5;66;03m# Look on data\u001b[39;00m\n\u001b[0;32m----> 3\u001b[0m data\u001b[38;5;241m.\u001b[39mframe\u001b[38;5;241m.\u001b[39mhead()\n",
      "\u001b[0;31mNameError\u001b[0m: name 'data' is not defined"
     ]
    }
   ],
   "source": [
    "# Look on data\n",
    "\n",
    "data.frame.head()"
   ]
  },
  {
   "cell_type": "code",
   "execution_count": 8,
   "metadata": {
    "ExecuteTime": {
     "end_time": "2020-06-07T16:39:19.987379Z",
     "start_time": "2020-06-07T16:39:19.972195Z"
    }
   },
   "outputs": [
    {
     "name": "stderr",
     "output_type": "stream",
     "text": [
      "du: cannot access 'data/*': No such file or directory\n"
     ]
    },
    {
     "ename": "CalledProcessError",
     "evalue": "Command 'b'\\ndu -sh data/*\\n'' returned non-zero exit status 1.",
     "output_type": "error",
     "traceback": [
      "\u001b[0;31m---------------------------------------------------------------------------\u001b[0m",
      "\u001b[0;31mCalledProcessError\u001b[0m                        Traceback (most recent call last)",
      "Cell \u001b[0;32mIn [8], line 1\u001b[0m\n\u001b[0;32m----> 1\u001b[0m get_ipython()\u001b[38;5;241m.\u001b[39mrun_cell_magic(\u001b[38;5;124m'\u001b[39m\u001b[38;5;124mbash\u001b[39m\u001b[38;5;124m'\u001b[39m, \u001b[38;5;124m'\u001b[39m\u001b[38;5;124m'\u001b[39m, \u001b[38;5;124m'\u001b[39m\u001b[38;5;130;01m\\n\u001b[39;00m\u001b[38;5;124mdu -sh data/*\u001b[39m\u001b[38;5;130;01m\\n\u001b[39;00m\u001b[38;5;124m'\u001b[39m)\n",
      "File \u001b[0;32m~/.local/lib/python3.11/site-packages/IPython/core/interactiveshell.py:2362\u001b[0m, in \u001b[0;36mInteractiveShell.run_cell_magic\u001b[0;34m(self, magic_name, line, cell)\u001b[0m\n\u001b[1;32m   2360\u001b[0m \u001b[39mwith\u001b[39;00m \u001b[39mself\u001b[39m\u001b[39m.\u001b[39mbuiltin_trap:\n\u001b[1;32m   2361\u001b[0m     args \u001b[39m=\u001b[39m (magic_arg_s, cell)\n\u001b[0;32m-> 2362\u001b[0m     result \u001b[39m=\u001b[39m fn(\u001b[39m*\u001b[39margs, \u001b[39m*\u001b[39m\u001b[39m*\u001b[39mkwargs)\n\u001b[1;32m   2363\u001b[0m \u001b[39mreturn\u001b[39;00m result\n",
      "File \u001b[0;32m~/.local/lib/python3.11/site-packages/IPython/core/magics/script.py:153\u001b[0m, in \u001b[0;36mScriptMagics._make_script_magic.<locals>.named_script_magic\u001b[0;34m(line, cell)\u001b[0m\n\u001b[1;32m    151\u001b[0m \u001b[39melse\u001b[39;00m:\n\u001b[1;32m    152\u001b[0m     line \u001b[39m=\u001b[39m script\n\u001b[0;32m--> 153\u001b[0m \u001b[39mreturn\u001b[39;00m \u001b[39mself\u001b[39m\u001b[39m.\u001b[39mshebang(line, cell)\n",
      "File \u001b[0;32m~/.local/lib/python3.11/site-packages/IPython/core/magics/script.py:305\u001b[0m, in \u001b[0;36mScriptMagics.shebang\u001b[0;34m(self, line, cell)\u001b[0m\n\u001b[1;32m    300\u001b[0m \u001b[39mif\u001b[39;00m args\u001b[39m.\u001b[39mraise_error \u001b[39mand\u001b[39;00m p\u001b[39m.\u001b[39mreturncode \u001b[39m!=\u001b[39m \u001b[39m0\u001b[39m:\n\u001b[1;32m    301\u001b[0m     \u001b[39m# If we get here and p.returncode is still None, we must have\u001b[39;00m\n\u001b[1;32m    302\u001b[0m     \u001b[39m# killed it but not yet seen its return code. We don't wait for it,\u001b[39;00m\n\u001b[1;32m    303\u001b[0m     \u001b[39m# in case it's stuck in uninterruptible sleep. -9 = SIGKILL\u001b[39;00m\n\u001b[1;32m    304\u001b[0m     rc \u001b[39m=\u001b[39m p\u001b[39m.\u001b[39mreturncode \u001b[39mor\u001b[39;00m \u001b[39m-\u001b[39m\u001b[39m9\u001b[39m\n\u001b[0;32m--> 305\u001b[0m     \u001b[39mraise\u001b[39;00m CalledProcessError(rc, cell)\n",
      "\u001b[0;31mCalledProcessError\u001b[0m: Command 'b'\\ndu -sh data/*\\n'' returned non-zero exit status 1."
     ]
    }
   ],
   "source": [
    "%%bash\n",
    "\n",
    "du -sh data/*"
   ]
  },
  {
   "cell_type": "markdown",
   "metadata": {},
   "source": [
    "## Add file under DVC control"
   ]
  },
  {
   "cell_type": "code",
   "execution_count": 7,
   "metadata": {
    "ExecuteTime": {
     "end_time": "2020-06-07T16:39:35.010906Z",
     "start_time": "2020-06-07T16:39:31.237012Z"
    },
    "scrolled": true
   },
   "outputs": [
    {
     "name": "stderr",
     "output_type": "stream",
     "text": [
      "ERROR: output 'data/iris.csv' does not exist\n"
     ]
    },
    {
     "ename": "CalledProcessError",
     "evalue": "Command 'b'\\ndvc add data/iris.csv\\n'' returned non-zero exit status 1.",
     "output_type": "error",
     "traceback": [
      "\u001b[0;31m---------------------------------------------------------------------------\u001b[0m",
      "\u001b[0;31mCalledProcessError\u001b[0m                        Traceback (most recent call last)",
      "Cell \u001b[0;32mIn [7], line 1\u001b[0m\n\u001b[0;32m----> 1\u001b[0m get_ipython()\u001b[38;5;241m.\u001b[39mrun_cell_magic(\u001b[38;5;124m'\u001b[39m\u001b[38;5;124mbash\u001b[39m\u001b[38;5;124m'\u001b[39m, \u001b[38;5;124m'\u001b[39m\u001b[38;5;124m'\u001b[39m, \u001b[38;5;124m'\u001b[39m\u001b[38;5;130;01m\\n\u001b[39;00m\u001b[38;5;124mdvc add data/iris.csv\u001b[39m\u001b[38;5;130;01m\\n\u001b[39;00m\u001b[38;5;124m'\u001b[39m)\n",
      "File \u001b[0;32m~/.local/lib/python3.11/site-packages/IPython/core/interactiveshell.py:2362\u001b[0m, in \u001b[0;36mInteractiveShell.run_cell_magic\u001b[0;34m(self, magic_name, line, cell)\u001b[0m\n\u001b[1;32m   2360\u001b[0m \u001b[39mwith\u001b[39;00m \u001b[39mself\u001b[39m\u001b[39m.\u001b[39mbuiltin_trap:\n\u001b[1;32m   2361\u001b[0m     args \u001b[39m=\u001b[39m (magic_arg_s, cell)\n\u001b[0;32m-> 2362\u001b[0m     result \u001b[39m=\u001b[39m fn(\u001b[39m*\u001b[39margs, \u001b[39m*\u001b[39m\u001b[39m*\u001b[39mkwargs)\n\u001b[1;32m   2363\u001b[0m \u001b[39mreturn\u001b[39;00m result\n",
      "File \u001b[0;32m~/.local/lib/python3.11/site-packages/IPython/core/magics/script.py:153\u001b[0m, in \u001b[0;36mScriptMagics._make_script_magic.<locals>.named_script_magic\u001b[0;34m(line, cell)\u001b[0m\n\u001b[1;32m    151\u001b[0m \u001b[39melse\u001b[39;00m:\n\u001b[1;32m    152\u001b[0m     line \u001b[39m=\u001b[39m script\n\u001b[0;32m--> 153\u001b[0m \u001b[39mreturn\u001b[39;00m \u001b[39mself\u001b[39m\u001b[39m.\u001b[39mshebang(line, cell)\n",
      "File \u001b[0;32m~/.local/lib/python3.11/site-packages/IPython/core/magics/script.py:305\u001b[0m, in \u001b[0;36mScriptMagics.shebang\u001b[0;34m(self, line, cell)\u001b[0m\n\u001b[1;32m    300\u001b[0m \u001b[39mif\u001b[39;00m args\u001b[39m.\u001b[39mraise_error \u001b[39mand\u001b[39;00m p\u001b[39m.\u001b[39mreturncode \u001b[39m!=\u001b[39m \u001b[39m0\u001b[39m:\n\u001b[1;32m    301\u001b[0m     \u001b[39m# If we get here and p.returncode is still None, we must have\u001b[39;00m\n\u001b[1;32m    302\u001b[0m     \u001b[39m# killed it but not yet seen its return code. We don't wait for it,\u001b[39;00m\n\u001b[1;32m    303\u001b[0m     \u001b[39m# in case it's stuck in uninterruptible sleep. -9 = SIGKILL\u001b[39;00m\n\u001b[1;32m    304\u001b[0m     rc \u001b[39m=\u001b[39m p\u001b[39m.\u001b[39mreturncode \u001b[39mor\u001b[39;00m \u001b[39m-\u001b[39m\u001b[39m9\u001b[39m\n\u001b[0;32m--> 305\u001b[0m     \u001b[39mraise\u001b[39;00m CalledProcessError(rc, cell)\n",
      "\u001b[0;31mCalledProcessError\u001b[0m: Command 'b'\\ndvc add data/iris.csv\\n'' returned non-zero exit status 1."
     ]
    }
   ],
   "source": [
    "%%bash\n",
    "\n",
    "dvc add data/iris.csv"
   ]
  },
  {
   "cell_type": "code",
   "execution_count": 11,
   "metadata": {
    "ExecuteTime": {
     "end_time": "2020-06-07T16:40:05.100292Z",
     "start_time": "2020-06-07T16:40:04.977600Z"
    }
   },
   "outputs": [
    {
     "name": "stdout",
     "output_type": "stream",
     "text": [
      "4,0K\tdata/iris.csv\n",
      "4,0K\tdata/iris.csv.dvc\n"
     ]
    }
   ],
   "source": [
    "!du -sh data/*"
   ]
  },
  {
   "cell_type": "code",
   "execution_count": 12,
   "metadata": {
    "ExecuteTime": {
     "end_time": "2020-06-07T16:42:08.776650Z",
     "start_time": "2020-06-07T16:42:08.645764Z"
    }
   },
   "outputs": [
    {
     "name": "stdout",
     "output_type": "stream",
     "text": [
      "\u001b[31m??\u001b[m data/.gitignore\n",
      "\u001b[31m??\u001b[m data/iris.csv.dvc\n"
     ]
    }
   ],
   "source": [
    "!git status -s data/"
   ]
  },
  {
   "cell_type": "code",
   "execution_count": 13,
   "metadata": {
    "ExecuteTime": {
     "end_time": "2019-06-09T07:57:55.231135Z",
     "start_time": "2019-06-09T07:57:55.190232Z"
    },
    "scrolled": true
   },
   "outputs": [
    {
     "name": "stdout",
     "output_type": "stream",
     "text": [
      "[experiments 40d1734] Add a source dataset\n",
      " 2 files changed, 4 insertions(+)\n",
      " create mode 100644 data/.gitignore\n",
      " create mode 100644 data/iris.csv.dvc\n"
     ]
    }
   ],
   "source": [
    "%%bash\n",
    "\n",
    "git add .\n",
    "git commit -m \"Add a source dataset\""
   ]
  },
  {
   "cell_type": "markdown",
   "metadata": {},
   "source": [
    "### What is DVC-file?"
   ]
  },
  {
   "cell_type": "markdown",
   "metadata": {},
   "source": [
    "Data file internals\n",
    "\n",
    "\n",
    ">    If you take a look at the DVC-file, you will see that only outputs are defined in outs. \n",
    "    In this file, only one output is defined. The output contains the data file path in the repository and md5 cache.\n",
    "    This md5 cache determines a location of the actual content file in DVC cache directory .dvc/cache\n",
    "    >> Output from DVC-files defines the relationship between the data file path in a repository and the path in a cache directory. See also DVC File Format\n",
    "\n",
    "\n",
    "\n",
    "(c) dvc.org https://dvc.org/doc/tutorial/define-ml-pipeline"
   ]
  },
  {
   "cell_type": "code",
   "execution_count": 14,
   "metadata": {
    "ExecuteTime": {
     "end_time": "2019-06-16T13:10:05.477448Z",
     "start_time": "2019-06-16T13:10:05.308304Z"
    }
   },
   "outputs": [
    {
     "name": "stdout",
     "output_type": "stream",
     "text": [
      "outs:\n",
      "- md5: 4d301abed5efe50eccda350cde38e0eb\n",
      "  path: iris.csv\n"
     ]
    }
   ],
   "source": [
    "!cat data/iris.csv.dvc"
   ]
  },
  {
   "cell_type": "markdown",
   "metadata": {},
   "source": [
    "## Create and Reproduce ML pipelines \n",
    "\n",
    "Stages \n",
    "- extract features \n",
    "- split dataset \n",
    "- train \n",
    "- evaluate \n"
   ]
  },
  {
   "cell_type": "markdown",
   "metadata": {},
   "source": [
    "### Add a pipeline stage with 'dvc run'"
   ]
  },
  {
   "cell_type": "code",
   "execution_count": 15,
   "metadata": {
    "ExecuteTime": {
     "end_time": "2020-06-07T17:08:32.274630Z",
     "start_time": "2020-06-07T17:08:31.509707Z"
    },
    "scrolled": true
   },
   "outputs": [
    {
     "name": "stdout",
     "output_type": "stream",
     "text": [
      "Running stage 'feature_extraction' with command:                      core\u001b[39m>\n",
      "\tpython src/featurization.py\n",
      "Creating 'dvc.yaml'                                                   core\u001b[39m>\n",
      "Adding stage 'feature_extraction' in 'dvc.yaml'\n",
      "Generating lock file 'dvc.lock'\n",
      "Updating lock file 'dvc.lock'\n",
      "\n",
      "To track the changes with git, run:\n",
      "\n",
      "\tgit add dvc.yaml data/.gitignore dvc.lock\n",
      "\u001b[0m"
     ]
    }
   ],
   "source": [
    "!dvc run -n feature_extraction \\\n",
    "    -d src/featurization.py \\\n",
    "    -d data/iris.csv \\\n",
    "    -o data/iris_featurized.csv \\\n",
    "    python src/featurization.py"
   ]
  },
  {
   "cell_type": "code",
   "execution_count": 16,
   "metadata": {
    "ExecuteTime": {
     "end_time": "2020-06-07T17:08:40.955649Z",
     "start_time": "2020-06-07T17:08:40.833495Z"
    }
   },
   "outputs": [
    {
     "name": "stdout",
     "output_type": "stream",
     "text": [
      "data\t\t\t       dvc.lock  dvc.yaml   requirements.txt\n",
      "dvc-1-get-started.ipynb.ipynb  dvc-venv  README.md  src\n"
     ]
    }
   ],
   "source": [
    "!ls "
   ]
  },
  {
   "cell_type": "code",
   "execution_count": 17,
   "metadata": {
    "ExecuteTime": {
     "end_time": "2020-06-07T17:09:02.974958Z",
     "start_time": "2020-06-07T17:09:02.853582Z"
    }
   },
   "outputs": [
    {
     "name": "stdout",
     "output_type": "stream",
     "text": [
      "stages:\n",
      "  feature_extraction:\n",
      "    cmd: python src/featurization.py\n",
      "    deps:\n",
      "    - data/iris.csv\n",
      "    - src/featurization.py\n",
      "    outs:\n",
      "    - data/iris_featurized.csv\n"
     ]
    }
   ],
   "source": [
    "!cat dvc.yaml"
   ]
  },
  {
   "cell_type": "code",
   "execution_count": 18,
   "metadata": {
    "ExecuteTime": {
     "end_time": "2020-06-07T17:11:09.582552Z",
     "start_time": "2020-06-07T17:11:09.570008Z"
    }
   },
   "outputs": [
    {
     "data": {
      "text/html": [
       "<div>\n",
       "<style scoped>\n",
       "    .dataframe tbody tr th:only-of-type {\n",
       "        vertical-align: middle;\n",
       "    }\n",
       "\n",
       "    .dataframe tbody tr th {\n",
       "        vertical-align: top;\n",
       "    }\n",
       "\n",
       "    .dataframe thead th {\n",
       "        text-align: right;\n",
       "    }\n",
       "</style>\n",
       "<table border=\"1\" class=\"dataframe\">\n",
       "  <thead>\n",
       "    <tr style=\"text-align: right;\">\n",
       "      <th></th>\n",
       "      <th>sepal_length</th>\n",
       "      <th>sepal_width</th>\n",
       "      <th>petal_length</th>\n",
       "      <th>petal_width</th>\n",
       "      <th>target</th>\n",
       "    </tr>\n",
       "  </thead>\n",
       "  <tbody>\n",
       "    <tr>\n",
       "      <th>0</th>\n",
       "      <td>5.1</td>\n",
       "      <td>3.5</td>\n",
       "      <td>1.4</td>\n",
       "      <td>0.2</td>\n",
       "      <td>0</td>\n",
       "    </tr>\n",
       "    <tr>\n",
       "      <th>1</th>\n",
       "      <td>4.9</td>\n",
       "      <td>3.0</td>\n",
       "      <td>1.4</td>\n",
       "      <td>0.2</td>\n",
       "      <td>0</td>\n",
       "    </tr>\n",
       "    <tr>\n",
       "      <th>2</th>\n",
       "      <td>4.7</td>\n",
       "      <td>3.2</td>\n",
       "      <td>1.3</td>\n",
       "      <td>0.2</td>\n",
       "      <td>0</td>\n",
       "    </tr>\n",
       "    <tr>\n",
       "      <th>3</th>\n",
       "      <td>4.6</td>\n",
       "      <td>3.1</td>\n",
       "      <td>1.5</td>\n",
       "      <td>0.2</td>\n",
       "      <td>0</td>\n",
       "    </tr>\n",
       "    <tr>\n",
       "      <th>4</th>\n",
       "      <td>5.0</td>\n",
       "      <td>3.6</td>\n",
       "      <td>1.4</td>\n",
       "      <td>0.2</td>\n",
       "      <td>0</td>\n",
       "    </tr>\n",
       "  </tbody>\n",
       "</table>\n",
       "</div>"
      ],
      "text/plain": [
       "   sepal_length  sepal_width  petal_length  petal_width  target\n",
       "0           5.1          3.5           1.4          0.2       0\n",
       "1           4.9          3.0           1.4          0.2       0\n",
       "2           4.7          3.2           1.3          0.2       0\n",
       "3           4.6          3.1           1.5          0.2       0\n",
       "4           5.0          3.6           1.4          0.2       0"
      ]
     },
     "execution_count": 18,
     "metadata": {},
     "output_type": "execute_result"
    }
   ],
   "source": [
    "import pandas as pd\n",
    "\n",
    "features = pd.read_csv('data/iris_featurized.csv')\n",
    "features.head()"
   ]
  },
  {
   "cell_type": "code",
   "execution_count": 19,
   "metadata": {
    "ExecuteTime": {
     "end_time": "2020-06-07T17:09:08.141684Z",
     "start_time": "2020-06-07T17:09:08.011859Z"
    }
   },
   "outputs": [
    {
     "name": "stdout",
     "output_type": "stream",
     "text": [
      " \u001b[31mM\u001b[m data/.gitignore\n",
      "\u001b[31m??\u001b[m dvc.lock\n",
      "\u001b[31m??\u001b[m dvc.yaml\n"
     ]
    }
   ],
   "source": [
    "!git status -s"
   ]
  },
  {
   "cell_type": "code",
   "execution_count": 20,
   "metadata": {
    "ExecuteTime": {
     "end_time": "2020-06-07T17:09:21.669767Z",
     "start_time": "2020-06-07T17:09:21.598219Z"
    }
   },
   "outputs": [
    {
     "name": "stdout",
     "output_type": "stream",
     "text": [
      "[experiments 5f733fe] Add stage features_extraction\n",
      " 3 files changed, 19 insertions(+)\n",
      " create mode 100644 dvc.lock\n",
      " create mode 100644 dvc.yaml\n"
     ]
    }
   ],
   "source": [
    "%%bash\n",
    "git add .\n",
    "git commit -m \"Add stage features_extraction\""
   ]
  },
  {
   "cell_type": "markdown",
   "metadata": {},
   "source": [
    "### Add split train/test stage (via dvc.yaml)"
   ]
  },
  {
   "cell_type": "code",
   "execution_count": 21,
   "metadata": {
    "ExecuteTime": {
     "end_time": "2020-06-07T17:12:13.347073Z",
     "start_time": "2020-06-07T17:12:09.807302Z"
    }
   },
   "outputs": [
    {
     "name": "stdout",
     "output_type": "stream",
     "text": [
      "Running stage 'split_dataset' with command:                           core\u001b[39m>\n",
      "\tpython src/split_dataset.py --test_size 0.4\n",
      "Adding stage 'split_dataset' in 'dvc.yaml'                            core\u001b[39m>\n",
      "Updating lock file 'dvc.lock'\n",
      "\n",
      "To track the changes with git, run:\n",
      "\n",
      "\tgit add dvc.yaml data/.gitignore dvc.lock\n",
      "\u001b[0m"
     ]
    }
   ],
   "source": [
    "!dvc run -n split_dataset \\\n",
    "    -d src/split_dataset.py \\\n",
    "    -d data/iris_featurized.csv \\\n",
    "    -o data/train.csv \\\n",
    "    -o data/test.csv \\\n",
    "    python src/split_dataset.py --test_size 0.4"
   ]
  },
  {
   "cell_type": "code",
   "execution_count": 22,
   "metadata": {
    "ExecuteTime": {
     "end_time": "2020-06-07T17:52:26.968719Z",
     "start_time": "2020-06-07T17:52:26.843560Z"
    }
   },
   "outputs": [
    {
     "name": "stdout",
     "output_type": "stream",
     "text": [
      "stages:\n",
      "  feature_extraction:\n",
      "    cmd: python src/featurization.py\n",
      "    deps:\n",
      "    - data/iris.csv\n",
      "    - src/featurization.py\n",
      "    outs:\n",
      "    - data/iris_featurized.csv\n",
      "  split_dataset:\n",
      "    cmd: python src/split_dataset.py --test_size 0.4\n",
      "    deps:\n",
      "    - data/iris_featurized.csv\n",
      "    - src/split_dataset.py\n",
      "    outs:\n",
      "    - data/test.csv\n",
      "    - data/train.csv\n"
     ]
    }
   ],
   "source": [
    "!cat dvc.yaml"
   ]
  },
  {
   "cell_type": "markdown",
   "metadata": {},
   "source": [
    "### Add train stage"
   ]
  },
  {
   "cell_type": "code",
   "execution_count": 23,
   "metadata": {},
   "outputs": [
    {
     "name": "stdout",
     "output_type": "stream",
     "text": [
      "Running stage 'train' with command:                                   core\u001b[39m>\n",
      "\tpython src/train.py\n",
      "Adding stage 'train' in 'dvc.yaml'                                    core\u001b[39m>\n",
      "Updating lock file 'dvc.lock'\n",
      "\n",
      "To track the changes with git, run:\n",
      "\n",
      "\tgit add dvc.lock dvc.yaml data/.gitignore\n",
      "\u001b[0m"
     ]
    }
   ],
   "source": [
    "!dvc run -n train \\\n",
    "    -d src/train.py \\\n",
    "    -d data/train.csv \\\n",
    "    -o data/model.joblib \\\n",
    "    python src/train.py"
   ]
  },
  {
   "cell_type": "code",
   "execution_count": 24,
   "metadata": {},
   "outputs": [
    {
     "name": "stdout",
     "output_type": "stream",
     "text": [
      "stages:\n",
      "  feature_extraction:\n",
      "    cmd: python src/featurization.py\n",
      "    deps:\n",
      "    - data/iris.csv\n",
      "    - src/featurization.py\n",
      "    outs:\n",
      "    - data/iris_featurized.csv\n",
      "  split_dataset:\n",
      "    cmd: python src/split_dataset.py --test_size 0.4\n",
      "    deps:\n",
      "    - data/iris_featurized.csv\n",
      "    - src/split_dataset.py\n",
      "    outs:\n",
      "    - data/test.csv\n",
      "    - data/train.csv\n",
      "  train:\n",
      "    cmd: python src/train.py\n",
      "    deps:\n",
      "    - data/train.csv\n",
      "    - src/train.py\n",
      "    outs:\n",
      "    - data/model.joblib\n"
     ]
    }
   ],
   "source": [
    "!cat dvc.yaml"
   ]
  },
  {
   "cell_type": "markdown",
   "metadata": {},
   "source": [
    "### Add evaluate stage"
   ]
  },
  {
   "cell_type": "code",
   "execution_count": 25,
   "metadata": {},
   "outputs": [
    {
     "name": "stdout",
     "output_type": "stream",
     "text": [
      "Running stage 'evaluate' with command:                                core\u001b[39m>\n",
      "\tpython src/evaluate.py\n",
      "Adding stage 'evaluate' in 'dvc.yaml'                                 core\u001b[39m>\n",
      "Updating lock file 'dvc.lock'\n",
      "\n",
      "To track the changes with git, run:\n",
      "\n",
      "\tgit add dvc.yaml dvc.lock data/.gitignore\n",
      "\u001b[0m"
     ]
    }
   ],
   "source": [
    "!dvc run -n evaluate \\\n",
    "    -d src/train.py \\\n",
    "    -d src/evaluate.py \\\n",
    "    -d data/test.csv \\\n",
    "    -d data/model.joblib \\\n",
    "    -m data/eval.txt \\\n",
    "    python src/evaluate.py"
   ]
  },
  {
   "cell_type": "code",
   "execution_count": 26,
   "metadata": {},
   "outputs": [
    {
     "name": "stdout",
     "output_type": "stream",
     "text": [
      "stages:\n",
      "  feature_extraction:\n",
      "    cmd: python src/featurization.py\n",
      "    deps:\n",
      "    - data/iris.csv\n",
      "    - src/featurization.py\n",
      "    outs:\n",
      "    - data/iris_featurized.csv\n",
      "  split_dataset:\n",
      "    cmd: python src/split_dataset.py --test_size 0.4\n",
      "    deps:\n",
      "    - data/iris_featurized.csv\n",
      "    - src/split_dataset.py\n",
      "    outs:\n",
      "    - data/test.csv\n",
      "    - data/train.csv\n",
      "  train:\n",
      "    cmd: python src/train.py\n",
      "    deps:\n",
      "    - data/train.csv\n",
      "    - src/train.py\n",
      "    outs:\n",
      "    - data/model.joblib\n",
      "  evaluate:\n",
      "    cmd: python src/evaluate.py\n",
      "    deps:\n",
      "    - data/model.joblib\n",
      "    - data/test.csv\n",
      "    - src/evaluate.py\n",
      "    - src/train.py\n",
      "    metrics:\n",
      "    - data/eval.txt\n"
     ]
    }
   ],
   "source": [
    "!cat dvc.yaml"
   ]
  },
  {
   "cell_type": "markdown",
   "metadata": {},
   "source": [
    "### Reproduce pipeline"
   ]
  },
  {
   "cell_type": "code",
   "execution_count": 27,
   "metadata": {
    "ExecuteTime": {
     "end_time": "2020-06-07T17:52:35.845182Z",
     "start_time": "2020-06-07T17:52:33.292592Z"
    },
    "scrolled": true
   },
   "outputs": [
    {
     "name": "stdout",
     "output_type": "stream",
     "text": [
      "'data/iris.csv.dvc' didn't change, skipping                           core\u001b[39m>\n",
      "Stage 'feature_extraction' didn't change, skipping\n",
      "Stage 'split_dataset' didn't change, skipping\n",
      "Data and pipelines are up to date.\n",
      "\u001b[0m"
     ]
    }
   ],
   "source": [
    "!dvc repro split_dataset"
   ]
  },
  {
   "cell_type": "markdown",
   "metadata": {},
   "source": [
    "## Collaborate on ML Experiments "
   ]
  },
  {
   "cell_type": "markdown",
   "metadata": {},
   "source": [
    "### Specify remote storage (local ~ /tmp/dvc)\n"
   ]
  },
  {
   "cell_type": "code",
   "execution_count": 28,
   "metadata": {
    "ExecuteTime": {
     "end_time": "2020-06-07T17:20:16.138249Z",
     "start_time": "2020-06-07T17:20:16.135878Z"
    }
   },
   "outputs": [
    {
     "name": "stdout",
     "output_type": "stream",
     "text": [
      "Setting 'local' as a default remote.\n",
      "\u001b[0m"
     ]
    }
   ],
   "source": [
    "!dvc remote add -d local /tmp/dvc"
   ]
  },
  {
   "cell_type": "markdown",
   "metadata": {},
   "source": [
    "### Push features to remote storage"
   ]
  },
  {
   "cell_type": "code",
   "execution_count": 29,
   "metadata": {
    "ExecuteTime": {
     "end_time": "2020-06-07T17:18:52.959781Z",
     "start_time": "2020-06-07T17:18:51.443013Z"
    }
   },
   "outputs": [
    {
     "name": "stdout",
     "output_type": "stream",
     "text": [
      "  0% Uploading|                                      |0/2 [00:00<?,     ?file/s]\n",
      "!\u001b[A\n",
      "  0%|          |data/model.joblib              0.00/1.01k [00:00<?,       ?it/s]\u001b[A\n",
      "\n",
      "!\u001b[A\u001b[A\n",
      "\n",
      "  0%|          |data/eval.txt                       0/124 [00:00<?,       ?it/s]\u001b[A\u001b[A\n",
      "                                                                                \u001b[A\n",
      "\n",
      "2 files pushed                                                                  \u001b[A\u001b[A\n",
      "\u001b[0m"
     ]
    }
   ],
   "source": [
    "!dvc push"
   ]
  },
  {
   "cell_type": "markdown",
   "metadata": {},
   "source": [
    "### Create tag `experiment-1`"
   ]
  },
  {
   "cell_type": "code",
   "execution_count": 30,
   "metadata": {},
   "outputs": [],
   "source": [
    "!git tag -a experiment-1 -m \"experiment-1\""
   ]
  },
  {
   "cell_type": "markdown",
   "metadata": {},
   "source": [
    "### Checkout into your teammate experiment state"
   ]
  },
  {
   "cell_type": "code",
   "execution_count": 31,
   "metadata": {
    "ExecuteTime": {
     "end_time": "2020-06-07T17:29:24.798980Z",
     "start_time": "2020-06-07T17:29:24.796737Z"
    }
   },
   "outputs": [
    {
     "name": "stdout",
     "output_type": "stream",
     "text": [
      "M\t.dvc/config\n",
      "M\tdata/.gitignore\n",
      "M\tdvc-1-get-started.ipynb.ipynb\n",
      "M\tdvc.lock\n",
      "M\tdvc.yaml\n"
     ]
    },
    {
     "name": "stderr",
     "output_type": "stream",
     "text": [
      "Note: checking out 'experiment-1'.\n",
      "\n",
      "You are in 'detached HEAD' state. You can look around, make experimental\n",
      "changes and commit them, and you can discard any commits you make in this\n",
      "state without impacting any branches by performing another checkout.\n",
      "\n",
      "If you want to create a new branch to retain commits you create, you may\n",
      "do so (now or later) by using -b with the checkout command again. Example:\n",
      "\n",
      "  git checkout -b <new-branch-name>\n",
      "\n",
      "HEAD сейчас на 5f733fe... Add stage features_extraction\n"
     ]
    }
   ],
   "source": [
    "%%bash \n",
    "\n",
    "git checkout experiment-1\n",
    "dvc checkout"
   ]
  },
  {
   "cell_type": "markdown",
   "metadata": {},
   "source": [
    "### Check Metrics"
   ]
  },
  {
   "cell_type": "code",
   "execution_count": 32,
   "metadata": {
    "ExecuteTime": {
     "end_time": "2019-06-09T08:04:34.968075Z",
     "start_time": "2019-06-09T08:04:33.115716Z"
    }
   },
   "outputs": [
    {
     "name": "stdout",
     "output_type": "stream",
     "text": [
      "\tdata/eval.txt:                                                       core\u001b[39m>\n",
      "\t\tf1_score: 0.7861833464670345\n",
      "\u001b[0m"
     ]
    }
   ],
   "source": [
    "!dvc metrics show"
   ]
  },
  {
   "cell_type": "markdown",
   "metadata": {},
   "source": [
    "### Reproduce experiment"
   ]
  },
  {
   "cell_type": "code",
   "execution_count": 33,
   "metadata": {
    "ExecuteTime": {
     "end_time": "2019-06-09T08:05:03.824843Z",
     "start_time": "2019-06-09T08:05:01.988326Z"
    }
   },
   "outputs": [
    {
     "name": "stdout",
     "output_type": "stream",
     "text": [
      "'data/iris.csv.dvc' didn't change, skipping                           core\u001b[39m>\n",
      "Stage 'feature_extraction' didn't change, skipping\n",
      "Stage 'split_dataset' didn't change, skipping\n",
      "Stage 'train' didn't change, skipping\n",
      "Stage 'evaluate' didn't change, skipping\n",
      "Data and pipelines are up to date.\n",
      "\u001b[0m"
     ]
    }
   ],
   "source": [
    "# Nothing to reproduce\n",
    "!dvc repro"
   ]
  },
  {
   "cell_type": "code",
   "execution_count": 34,
   "metadata": {
    "ExecuteTime": {
     "end_time": "2019-06-09T08:04:44.002365Z",
     "start_time": "2019-06-09T08:04:43.868883Z"
    }
   },
   "outputs": [
    {
     "name": "stdout",
     "output_type": "stream",
     "text": [
      "Verifying data sources in stage: 'data/iris.csv.dvc'                  core\u001b[39m>\n",
      "\n",
      "Running stage 'feature_extraction' with command:\n",
      "\tpython src/featurization.py\n",
      "                                                                      core\u001b[39m>\n",
      "Running stage 'split_dataset' with command:\n",
      "\tpython src/split_dataset.py --test_size 0.4\n",
      "                                                                      core\u001b[39m>\n",
      "Running stage 'train' with command:\n",
      "\tpython src/train.py\n",
      "                                                                      core\u001b[39m>\n",
      "Running stage 'evaluate' with command:\n",
      "\tpython src/evaluate.py\n",
      "                                                                      core\u001b[39m>\n",
      "To track the changes with git, run:\n",
      "\n",
      "\tgit add data/iris.csv.dvc\n",
      "\u001b[0m"
     ]
    }
   ],
   "source": [
    "!dvc repro -f"
   ]
  },
  {
   "cell_type": "code",
   "execution_count": 35,
   "metadata": {},
   "outputs": [
    {
     "name": "stdout",
     "output_type": "stream",
     "text": [
      "\tdata/eval.txt:                                                       core\u001b[39m>\n",
      "\t\tf1_score: 0.7861833464670345\n",
      "\u001b[0m"
     ]
    }
   ],
   "source": [
    "# Check Metrics\n",
    "\n",
    "!dvc metrics show"
   ]
  },
  {
   "cell_type": "code",
   "execution_count": null,
   "metadata": {},
   "outputs": [],
   "source": []
  }
 ],
 "metadata": {
  "kernelspec": {
   "display_name": "Python 3.11.0a7 64-bit",
   "language": "python",
   "name": "python3"
  },
  "language_info": {
   "codemirror_mode": {
    "name": "ipython",
    "version": 3
   },
   "file_extension": ".py",
   "mimetype": "text/x-python",
   "name": "python",
   "nbconvert_exporter": "python",
   "pygments_lexer": "ipython3",
   "version": "3.11.0a7"
  },
  "toc": {
   "base_numbering": 1,
   "nav_menu": {},
   "number_sections": true,
   "sideBar": true,
   "skip_h1_title": false,
   "title_cell": "Table of Contents",
   "title_sidebar": "Contents",
   "toc_cell": false,
   "toc_position": {
    "height": "calc(100% - 180px)",
    "left": "10px",
    "top": "150px",
    "width": "231px"
   },
   "toc_section_display": true,
   "toc_window_display": true
  },
  "varInspector": {
   "cols": {
    "lenName": 16,
    "lenType": 16,
    "lenVar": 40
   },
   "kernels_config": {
    "python": {
     "delete_cmd_postfix": "",
     "delete_cmd_prefix": "del ",
     "library": "var_list.py",
     "varRefreshCmd": "print(var_dic_list())"
    },
    "r": {
     "delete_cmd_postfix": ") ",
     "delete_cmd_prefix": "rm(",
     "library": "var_list.r",
     "varRefreshCmd": "cat(var_dic_list()) "
    }
   },
   "types_to_exclude": [
    "module",
    "function",
    "builtin_function_or_method",
    "instance",
    "_Feature"
   ],
   "window_display": false
  },
  "vscode": {
   "interpreter": {
    "hash": "aee8b7b246df8f9039afb4144a1f6fd8d2ca17a180786b69acc140d282b71a49"
   }
  }
 },
 "nbformat": 4,
 "nbformat_minor": 4
}

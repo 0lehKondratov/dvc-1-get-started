{
 "cells": [
  {
   "cell_type": "markdown",
   "metadata": {},
   "source": [
    "# Install and init DVC\n",
    "\n",
    "Prerequisites: \n",
    "-  DVC and requirements.txt packages installed (if not - check README.md file for instructions)\n",
    "-  A project repository is a Git repo "
   ]
  },
  {
   "cell_type": "markdown",
   "metadata": {},
   "source": [
    "## Install with pip"
   ]
  },
  {
   "cell_type": "code",
   "execution_count": 1,
   "metadata": {
    "scrolled": true
   },
   "outputs": [
    {
     "name": "stdout",
     "output_type": "stream",
     "text": [
      "Requirement already satisfied: dvc==1.8.4 in /home/cruser/anaconda3/lib/python3.9/site-packages (1.8.4)\n",
      "Requirement already satisfied: zc.lockfile>=1.2.1 in /home/cruser/anaconda3/lib/python3.9/site-packages (from dvc==1.8.4) (2.0)\n",
      "Requirement already satisfied: dictdiffer>=0.8.1 in /home/cruser/anaconda3/lib/python3.9/site-packages (from dvc==1.8.4) (0.9.0)\n",
      "Requirement already satisfied: colorama>=0.3.9 in /home/cruser/anaconda3/lib/python3.9/site-packages (from dvc==1.8.4) (0.4.4)\n",
      "Requirement already satisfied: configobj>=5.0.6 in /home/cruser/anaconda3/lib/python3.9/site-packages (from dvc==1.8.4) (5.0.6)\n",
      "Requirement already satisfied: distro>=1.3.0 in /home/cruser/anaconda3/lib/python3.9/site-packages (from dvc==1.8.4) (1.7.0)\n",
      "Requirement already satisfied: pydot>=1.2.4 in /home/cruser/anaconda3/lib/python3.9/site-packages (from dvc==1.8.4) (1.4.2)\n",
      "Requirement already satisfied: dpath<3,>=2.0.1 in /home/cruser/anaconda3/lib/python3.9/site-packages (from dvc==1.8.4) (2.0.6)\n",
      "Requirement already satisfied: flatten-dict<1,>=0.3.0 in /home/cruser/anaconda3/lib/python3.9/site-packages (from dvc==1.8.4) (0.4.2)\n",
      "Requirement already satisfied: rich>=3.0.5 in /home/cruser/anaconda3/lib/python3.9/site-packages (from dvc==1.8.4) (12.5.1)\n",
      "Requirement already satisfied: voluptuous>=0.11.7 in /home/cruser/anaconda3/lib/python3.9/site-packages (from dvc==1.8.4) (0.13.1)\n",
      "Requirement already satisfied: pyasn1>=0.4.1 in /home/cruser/anaconda3/lib/python3.9/site-packages (from dvc==1.8.4) (0.4.8)\n",
      "Requirement already satisfied: gitpython>3 in /home/cruser/anaconda3/lib/python3.9/site-packages (from dvc==1.8.4) (3.1.27)\n",
      "Requirement already satisfied: funcy>=1.14 in /home/cruser/anaconda3/lib/python3.9/site-packages (from dvc==1.8.4) (1.17)\n",
      "Requirement already satisfied: shtab<2,>=1.3.2 in /home/cruser/anaconda3/lib/python3.9/site-packages (from dvc==1.8.4) (1.5.5)\n",
      "Requirement already satisfied: networkx<2.5,>=2.1 in /home/cruser/anaconda3/lib/python3.9/site-packages (from dvc==1.8.4) (2.4)\n",
      "Requirement already satisfied: tqdm<5,>=4.45.0 in /home/cruser/anaconda3/lib/python3.9/site-packages (from dvc==1.8.4) (4.62.3)\n",
      "Requirement already satisfied: packaging>=19.0 in /home/cruser/anaconda3/lib/python3.9/site-packages (from dvc==1.8.4) (21.0)\n",
      "Requirement already satisfied: jsonpath-ng>=1.5.1 in /home/cruser/anaconda3/lib/python3.9/site-packages (from dvc==1.8.4) (1.5.3)\n",
      "Requirement already satisfied: pathspec>=0.6.0 in /home/cruser/anaconda3/lib/python3.9/site-packages (from dvc==1.8.4) (0.7.0)\n",
      "Requirement already satisfied: shortuuid>=0.5.0 in /home/cruser/anaconda3/lib/python3.9/site-packages (from dvc==1.8.4) (1.0.9)\n",
      "Requirement already satisfied: grandalf==0.6 in /home/cruser/anaconda3/lib/python3.9/site-packages (from dvc==1.8.4) (0.6)\n",
      "Requirement already satisfied: tabulate>=0.8.7 in /home/cruser/anaconda3/lib/python3.9/site-packages (from dvc==1.8.4) (0.8.10)\n",
      "Requirement already satisfied: toml>=0.10.1 in /home/cruser/anaconda3/lib/python3.9/site-packages (from dvc==1.8.4) (0.10.2)\n",
      "Requirement already satisfied: flufl.lock<4,>=3.2 in /home/cruser/anaconda3/lib/python3.9/site-packages (from dvc==1.8.4) (3.2)\n",
      "Requirement already satisfied: ply>=3.9 in /home/cruser/anaconda3/lib/python3.9/site-packages (from dvc==1.8.4) (3.11)\n",
      "Requirement already satisfied: setuptools>=34.0.0 in /home/cruser/anaconda3/lib/python3.9/site-packages (from dvc==1.8.4) (58.0.4)\n",
      "Requirement already satisfied: appdirs>=1.4.3 in /home/cruser/anaconda3/lib/python3.9/site-packages (from dvc==1.8.4) (1.4.4)\n",
      "Requirement already satisfied: requests>=2.22.0 in /home/cruser/anaconda3/lib/python3.9/site-packages (from dvc==1.8.4) (2.25.1)\n",
      "Requirement already satisfied: pygtrie==2.3.2 in /home/cruser/anaconda3/lib/python3.9/site-packages (from dvc==1.8.4) (2.3.2)\n",
      "Requirement already satisfied: ruamel.yaml>=0.16.1 in /home/cruser/anaconda3/lib/python3.9/site-packages (from dvc==1.8.4) (0.17.21)\n",
      "Requirement already satisfied: nanotime>=0.5.2 in /home/cruser/anaconda3/lib/python3.9/site-packages (from dvc==1.8.4) (0.5.2)\n",
      "Requirement already satisfied: pyparsing in /home/cruser/anaconda3/lib/python3.9/site-packages (from grandalf==0.6->dvc==1.8.4) (3.0.4)\n",
      "Requirement already satisfied: future in /home/cruser/anaconda3/lib/python3.9/site-packages (from grandalf==0.6->dvc==1.8.4) (0.18.2)\n",
      "Requirement already satisfied: six in /home/cruser/anaconda3/lib/python3.9/site-packages (from configobj>=5.0.6->dvc==1.8.4) (1.16.0)\n",
      "Requirement already satisfied: atpublic in /home/cruser/anaconda3/lib/python3.9/site-packages (from flufl.lock<4,>=3.2->dvc==1.8.4) (3.1.1)\n",
      "Requirement already satisfied: gitdb<5,>=4.0.1 in /home/cruser/anaconda3/lib/python3.9/site-packages (from gitpython>3->dvc==1.8.4) (4.0.9)\n",
      "Requirement already satisfied: smmap<6,>=3.0.1 in /home/cruser/anaconda3/lib/python3.9/site-packages (from gitdb<5,>=4.0.1->gitpython>3->dvc==1.8.4) (5.0.0)\n",
      "Requirement already satisfied: decorator in /home/cruser/anaconda3/lib/python3.9/site-packages (from jsonpath-ng>=1.5.1->dvc==1.8.4) (5.1.0)\n",
      "Requirement already satisfied: chardet<5,>=3.0.2 in /home/cruser/anaconda3/lib/python3.9/site-packages (from requests>=2.22.0->dvc==1.8.4) (4.0.0)\n",
      "Requirement already satisfied: certifi>=2017.4.17 in /home/cruser/anaconda3/lib/python3.9/site-packages (from requests>=2.22.0->dvc==1.8.4) (2021.10.8)\n",
      "Requirement already satisfied: idna<3,>=2.5 in /home/cruser/anaconda3/lib/python3.9/site-packages (from requests>=2.22.0->dvc==1.8.4) (2.10)\n",
      "Requirement already satisfied: urllib3<1.27,>=1.21.1 in /home/cruser/anaconda3/lib/python3.9/site-packages (from requests>=2.22.0->dvc==1.8.4) (1.26.7)\n",
      "Requirement already satisfied: commonmark<0.10.0,>=0.9.0 in /home/cruser/anaconda3/lib/python3.9/site-packages (from rich>=3.0.5->dvc==1.8.4) (0.9.1)\n",
      "Requirement already satisfied: pygments<3.0.0,>=2.6.0 in /home/cruser/anaconda3/lib/python3.9/site-packages (from rich>=3.0.5->dvc==1.8.4) (2.10.0)\n",
      "Requirement already satisfied: ruamel.yaml.clib>=0.2.6 in /home/cruser/anaconda3/lib/python3.9/site-packages (from ruamel.yaml>=0.16.1->dvc==1.8.4) (0.2.6)\n"
     ]
    }
   ],
   "source": [
    "!pip install dvc==1.8.4"
   ]
  },
  {
   "cell_type": "markdown",
   "metadata": {},
   "source": [
    "## Checkout branch `experiments`"
   ]
  },
  {
   "cell_type": "code",
   "execution_count": 1,
   "metadata": {},
   "outputs": [
    {
     "name": "stdout",
     "output_type": "stream",
     "text": [
      "fatal: A branch named 'experiments' already exists.\n"
     ]
    }
   ],
   "source": [
    "!git checkout -b experiments"
   ]
  },
  {
   "cell_type": "code",
   "execution_count": null,
   "metadata": {},
   "outputs": [],
   "source": []
  },
  {
   "cell_type": "markdown",
   "metadata": {
    "ExecuteTime": {
     "end_time": "2019-06-08T11:18:29.199273Z",
     "start_time": "2019-06-08T11:18:29.196865Z"
    }
   },
   "source": [
    "## Initialize DVC\n",
    "\n",
    "References: \n",
    "- https://dvc.org/doc/get-started/initialize "
   ]
  },
  {
   "cell_type": "code",
   "execution_count": 2,
   "metadata": {
    "ExecuteTime": {
     "end_time": "2020-06-07T15:14:05.457897Z",
     "start_time": "2020-06-07T15:14:04.794229Z"
    }
   },
   "outputs": [
    {
     "name": "stdout",
     "output_type": "stream",
     "text": [
      "\u001b[31mERROR\u001b[39m: failed to initiate DVC - '.dvc' exists. Use `-f` to force.\n",
      "\u001b[0m"
     ]
    }
   ],
   "source": [
    "!dvc init"
   ]
  },
  {
   "cell_type": "markdown",
   "metadata": {},
   "source": [
    "## Commit changes"
   ]
  },
  {
   "cell_type": "code",
   "execution_count": 4,
   "metadata": {
    "ExecuteTime": {
     "end_time": "2019-06-09T07:56:42.119367Z",
     "start_time": "2019-06-09T07:56:42.004239Z"
    }
   },
   "outputs": [
    {
     "name": "stdout",
     "output_type": "stream",
     "text": [
      "[experiments 147dac4] Initialize DVC\n",
      " 8 files changed, 172 insertions(+), 87 deletions(-)\n",
      " create mode 100644 .dvc/.gitignore\n",
      " create mode 100644 .dvc/config\n",
      " create mode 100644 .dvc/plots/confusion.json\n",
      " create mode 100644 .dvc/plots/default.json\n",
      " create mode 100644 .dvc/plots/scatter.json\n",
      " create mode 100644 .dvc/plots/smooth.json\n",
      " create mode 100644 .dvcignore\n"
     ]
    }
   ],
   "source": [
    "%%bash\n",
    "\n",
    "git add .\n",
    "git commit -m \"Initialize DVC\""
   ]
  },
  {
   "cell_type": "markdown",
   "metadata": {},
   "source": [
    "## Review Files and Directories created by DVC"
   ]
  },
  {
   "cell_type": "code",
   "execution_count": 5,
   "metadata": {
    "ExecuteTime": {
     "end_time": "2020-06-07T15:44:02.848188Z",
     "start_time": "2020-06-07T15:44:02.729793Z"
    }
   },
   "outputs": [
    {
     "name": "stdout",
     "output_type": "stream",
     "text": [
      ".  ..  config  .gitignore  plots  tmp\n"
     ]
    }
   ],
   "source": [
    "!ls -a .dvc "
   ]
  },
  {
   "cell_type": "code",
   "execution_count": 6,
   "metadata": {
    "ExecuteTime": {
     "end_time": "2020-06-07T15:47:30.242894Z",
     "start_time": "2020-06-07T15:47:30.122806Z"
    }
   },
   "outputs": [
    {
     "name": "stdout",
     "output_type": "stream",
     "text": [
      "/config.local\n",
      "/tmp\n",
      "/cache\n"
     ]
    }
   ],
   "source": [
    "!cat .dvc/.gitignore"
   ]
  },
  {
   "cell_type": "markdown",
   "metadata": {},
   "source": [
    "# Quick Tour of DVC features"
   ]
  },
  {
   "cell_type": "markdown",
   "metadata": {},
   "source": [
    "## Data Versioning"
   ]
  },
  {
   "cell_type": "code",
   "execution_count": 1,
   "metadata": {
    "ExecuteTime": {
     "end_time": "2020-06-07T17:06:11.216221Z",
     "start_time": "2020-06-07T17:06:11.173316Z"
    },
    "scrolled": true
   },
   "outputs": [
    {
     "ename": "ModuleNotFoundError",
     "evalue": "No module named 'pandas'",
     "output_type": "error",
     "traceback": [
      "\u001b[0;31m---------------------------------------------------------------------------\u001b[0m",
      "\u001b[0;31mModuleNotFoundError\u001b[0m                       Traceback (most recent call last)",
      "Cell \u001b[0;32mIn [1], line 3\u001b[0m\n\u001b[1;32m      1\u001b[0m \u001b[38;5;66;03m# Get data \u001b[39;00m\n\u001b[0;32m----> 3\u001b[0m \u001b[38;5;28;01mimport\u001b[39;00m \u001b[38;5;21;01mpandas\u001b[39;00m \u001b[38;5;28;01mas\u001b[39;00m \u001b[38;5;21;01mpd\u001b[39;00m\n\u001b[1;32m      4\u001b[0m \u001b[38;5;28;01mfrom\u001b[39;00m \u001b[38;5;21;01msklearn\u001b[39;00m\u001b[38;5;21;01m.\u001b[39;00m\u001b[38;5;21;01mdatasets\u001b[39;00m \u001b[38;5;28;01mimport\u001b[39;00m load_iris\n\u001b[1;32m      6\u001b[0m data \u001b[38;5;241m=\u001b[39m load_iris(as_frame\u001b[38;5;241m=\u001b[39m\u001b[38;5;28;01mTrue\u001b[39;00m)\n",
      "\u001b[0;31mModuleNotFoundError\u001b[0m: No module named 'pandas'"
     ]
    }
   ],
   "source": [
    "# Get data \n",
    "\n",
    "import pandas as pd\n",
    "from sklearn.datasets import load_iris\n",
    "\n",
    "data = load_iris(as_frame=True)\n",
    "list(data.target_names)\n",
    "data.frame.to_csv('data/iris.csv', index=False)"
   ]
  },
  {
   "cell_type": "code",
   "execution_count": 8,
   "metadata": {
    "ExecuteTime": {
     "end_time": "2020-06-07T16:39:05.495085Z",
     "start_time": "2020-06-07T16:39:05.486370Z"
    }
   },
   "outputs": [
    {
     "data": {
      "text/html": [
       "<div>\n",
       "<style scoped>\n",
       "    .dataframe tbody tr th:only-of-type {\n",
       "        vertical-align: middle;\n",
       "    }\n",
       "\n",
       "    .dataframe tbody tr th {\n",
       "        vertical-align: top;\n",
       "    }\n",
       "\n",
       "    .dataframe thead th {\n",
       "        text-align: right;\n",
       "    }\n",
       "</style>\n",
       "<table border=\"1\" class=\"dataframe\">\n",
       "  <thead>\n",
       "    <tr style=\"text-align: right;\">\n",
       "      <th></th>\n",
       "      <th>sepal length (cm)</th>\n",
       "      <th>sepal width (cm)</th>\n",
       "      <th>petal length (cm)</th>\n",
       "      <th>petal width (cm)</th>\n",
       "      <th>target</th>\n",
       "    </tr>\n",
       "  </thead>\n",
       "  <tbody>\n",
       "    <tr>\n",
       "      <th>0</th>\n",
       "      <td>5.1</td>\n",
       "      <td>3.5</td>\n",
       "      <td>1.4</td>\n",
       "      <td>0.2</td>\n",
       "      <td>0</td>\n",
       "    </tr>\n",
       "    <tr>\n",
       "      <th>1</th>\n",
       "      <td>4.9</td>\n",
       "      <td>3.0</td>\n",
       "      <td>1.4</td>\n",
       "      <td>0.2</td>\n",
       "      <td>0</td>\n",
       "    </tr>\n",
       "    <tr>\n",
       "      <th>2</th>\n",
       "      <td>4.7</td>\n",
       "      <td>3.2</td>\n",
       "      <td>1.3</td>\n",
       "      <td>0.2</td>\n",
       "      <td>0</td>\n",
       "    </tr>\n",
       "    <tr>\n",
       "      <th>3</th>\n",
       "      <td>4.6</td>\n",
       "      <td>3.1</td>\n",
       "      <td>1.5</td>\n",
       "      <td>0.2</td>\n",
       "      <td>0</td>\n",
       "    </tr>\n",
       "    <tr>\n",
       "      <th>4</th>\n",
       "      <td>5.0</td>\n",
       "      <td>3.6</td>\n",
       "      <td>1.4</td>\n",
       "      <td>0.2</td>\n",
       "      <td>0</td>\n",
       "    </tr>\n",
       "  </tbody>\n",
       "</table>\n",
       "</div>"
      ],
      "text/plain": [
       "   sepal length (cm)  sepal width (cm)  petal length (cm)  petal width (cm)  \\\n",
       "0                5.1               3.5                1.4               0.2   \n",
       "1                4.9               3.0                1.4               0.2   \n",
       "2                4.7               3.2                1.3               0.2   \n",
       "3                4.6               3.1                1.5               0.2   \n",
       "4                5.0               3.6                1.4               0.2   \n",
       "\n",
       "   target  \n",
       "0       0  \n",
       "1       0  \n",
       "2       0  \n",
       "3       0  \n",
       "4       0  "
      ]
     },
     "execution_count": 8,
     "metadata": {},
     "output_type": "execute_result"
    }
   ],
   "source": [
    "# Look on data\n",
    "\n",
    "data.frame.head()"
   ]
  },
  {
   "cell_type": "code",
   "execution_count": 9,
   "metadata": {
    "ExecuteTime": {
     "end_time": "2020-06-07T16:39:19.987379Z",
     "start_time": "2020-06-07T16:39:19.972195Z"
    }
   },
   "outputs": [
    {
     "name": "stdout",
     "output_type": "stream",
     "text": [
      "4,0K\tdata/iris.csv\n"
     ]
    }
   ],
   "source": [
    "%%bash\n",
    "\n",
    "du -sh data/*"
   ]
  },
  {
   "cell_type": "markdown",
   "metadata": {},
   "source": [
    "## Add file under DVC control"
   ]
  },
  {
   "cell_type": "code",
   "execution_count": 10,
   "metadata": {
    "ExecuteTime": {
     "end_time": "2020-06-07T16:39:35.010906Z",
     "start_time": "2020-06-07T16:39:31.237012Z"
    },
    "scrolled": true
   },
   "outputs": [
    {
     "name": "stdout",
     "output_type": "stream",
     "text": [
      "\n",
      "To track the changes with git, run:\n",
      "\n",
      "\tgit add data/iris.csv.dvc data/.gitignore\n"
     ]
    }
   ],
   "source": [
    "%%bash\n",
    "\n",
    "dvc add data/iris.csv"
   ]
  },
  {
   "cell_type": "code",
   "execution_count": 11,
   "metadata": {
    "ExecuteTime": {
     "end_time": "2020-06-07T16:40:05.100292Z",
     "start_time": "2020-06-07T16:40:04.977600Z"
    }
   },
   "outputs": [
    {
     "name": "stdout",
     "output_type": "stream",
     "text": [
      "4,0K\tdata/iris.csv\n",
      "4,0K\tdata/iris.csv.dvc\n"
     ]
    }
   ],
   "source": [
    "!du -sh data/*"
   ]
  },
  {
   "cell_type": "code",
   "execution_count": 12,
   "metadata": {
    "ExecuteTime": {
     "end_time": "2020-06-07T16:42:08.776650Z",
     "start_time": "2020-06-07T16:42:08.645764Z"
    }
   },
   "outputs": [
    {
     "name": "stdout",
     "output_type": "stream",
     "text": [
      "\u001b[31m??\u001b[m data/.gitignore\n",
      "\u001b[31m??\u001b[m data/iris.csv.dvc\n"
     ]
    }
   ],
   "source": [
    "!git status -s data/"
   ]
  },
  {
   "cell_type": "code",
   "execution_count": 13,
   "metadata": {
    "ExecuteTime": {
     "end_time": "2019-06-09T07:57:55.231135Z",
     "start_time": "2019-06-09T07:57:55.190232Z"
    },
    "scrolled": true
   },
   "outputs": [
    {
     "name": "stdout",
     "output_type": "stream",
     "text": [
      "[experiments 40d1734] Add a source dataset\n",
      " 2 files changed, 4 insertions(+)\n",
      " create mode 100644 data/.gitignore\n",
      " create mode 100644 data/iris.csv.dvc\n"
     ]
    }
   ],
   "source": [
    "%%bash\n",
    "\n",
    "git add .\n",
    "git commit -m \"Add a source dataset\""
   ]
  },
  {
   "cell_type": "markdown",
   "metadata": {},
   "source": [
    "### What is DVC-file?"
   ]
  },
  {
   "cell_type": "markdown",
   "metadata": {},
   "source": [
    "Data file internals\n",
    "\n",
    "\n",
    ">    If you take a look at the DVC-file, you will see that only outputs are defined in outs. \n",
    "    In this file, only one output is defined. The output contains the data file path in the repository and md5 cache.\n",
    "    This md5 cache determines a location of the actual content file in DVC cache directory .dvc/cache\n",
    "    >> Output from DVC-files defines the relationship between the data file path in a repository and the path in a cache directory. See also DVC File Format\n",
    "\n",
    "\n",
    "\n",
    "(c) dvc.org https://dvc.org/doc/tutorial/define-ml-pipeline"
   ]
  },
  {
   "cell_type": "code",
   "execution_count": 14,
   "metadata": {
    "ExecuteTime": {
     "end_time": "2019-06-16T13:10:05.477448Z",
     "start_time": "2019-06-16T13:10:05.308304Z"
    }
   },
   "outputs": [
    {
     "name": "stdout",
     "output_type": "stream",
     "text": [
      "outs:\n",
      "- md5: 4d301abed5efe50eccda350cde38e0eb\n",
      "  path: iris.csv\n"
     ]
    }
   ],
   "source": [
    "!cat data/iris.csv.dvc"
   ]
  },
  {
   "cell_type": "markdown",
   "metadata": {},
   "source": [
    "## Create and Reproduce ML pipelines \n",
    "\n",
    "Stages \n",
    "- extract features \n",
    "- split dataset \n",
    "- train \n",
    "- evaluate \n"
   ]
  },
  {
   "cell_type": "markdown",
   "metadata": {},
   "source": [
    "### Add a pipeline stage with 'dvc run'"
   ]
  },
  {
   "cell_type": "code",
   "execution_count": 15,
   "metadata": {
    "ExecuteTime": {
     "end_time": "2020-06-07T17:08:32.274630Z",
     "start_time": "2020-06-07T17:08:31.509707Z"
    },
    "scrolled": true
   },
   "outputs": [
    {
     "name": "stdout",
     "output_type": "stream",
     "text": [
      "Running stage 'feature_extraction' with command:                      core\u001b[39m>\n",
      "\tpython src/featurization.py\n",
      "Creating 'dvc.yaml'                                                   core\u001b[39m>\n",
      "Adding stage 'feature_extraction' in 'dvc.yaml'\n",
      "Generating lock file 'dvc.lock'\n",
      "Updating lock file 'dvc.lock'\n",
      "\n",
      "To track the changes with git, run:\n",
      "\n",
      "\tgit add dvc.yaml data/.gitignore dvc.lock\n",
      "\u001b[0m"
     ]
    }
   ],
   "source": [
    "!dvc run -n feature_extraction \\\n",
    "    -d src/featurization.py \\\n",
    "    -d data/iris.csv \\\n",
    "    -o data/iris_featurized.csv \\\n",
    "    python src/featurization.py"
   ]
  },
  {
   "cell_type": "code",
   "execution_count": 16,
   "metadata": {
    "ExecuteTime": {
     "end_time": "2020-06-07T17:08:40.955649Z",
     "start_time": "2020-06-07T17:08:40.833495Z"
    }
   },
   "outputs": [
    {
     "name": "stdout",
     "output_type": "stream",
     "text": [
      "data\t\t\t       dvc.lock  dvc.yaml   requirements.txt\n",
      "dvc-1-get-started.ipynb.ipynb  dvc-venv  README.md  src\n"
     ]
    }
   ],
   "source": [
    "!ls "
   ]
  },
  {
   "cell_type": "code",
   "execution_count": 17,
   "metadata": {
    "ExecuteTime": {
     "end_time": "2020-06-07T17:09:02.974958Z",
     "start_time": "2020-06-07T17:09:02.853582Z"
    }
   },
   "outputs": [
    {
     "name": "stdout",
     "output_type": "stream",
     "text": [
      "stages:\n",
      "  feature_extraction:\n",
      "    cmd: python src/featurization.py\n",
      "    deps:\n",
      "    - data/iris.csv\n",
      "    - src/featurization.py\n",
      "    outs:\n",
      "    - data/iris_featurized.csv\n"
     ]
    }
   ],
   "source": [
    "!cat dvc.yaml"
   ]
  },
  {
   "cell_type": "code",
   "execution_count": 18,
   "metadata": {
    "ExecuteTime": {
     "end_time": "2020-06-07T17:11:09.582552Z",
     "start_time": "2020-06-07T17:11:09.570008Z"
    }
   },
   "outputs": [
    {
     "data": {
      "text/html": [
       "<div>\n",
       "<style scoped>\n",
       "    .dataframe tbody tr th:only-of-type {\n",
       "        vertical-align: middle;\n",
       "    }\n",
       "\n",
       "    .dataframe tbody tr th {\n",
       "        vertical-align: top;\n",
       "    }\n",
       "\n",
       "    .dataframe thead th {\n",
       "        text-align: right;\n",
       "    }\n",
       "</style>\n",
       "<table border=\"1\" class=\"dataframe\">\n",
       "  <thead>\n",
       "    <tr style=\"text-align: right;\">\n",
       "      <th></th>\n",
       "      <th>sepal_length</th>\n",
       "      <th>sepal_width</th>\n",
       "      <th>petal_length</th>\n",
       "      <th>petal_width</th>\n",
       "      <th>target</th>\n",
       "    </tr>\n",
       "  </thead>\n",
       "  <tbody>\n",
       "    <tr>\n",
       "      <th>0</th>\n",
       "      <td>5.1</td>\n",
       "      <td>3.5</td>\n",
       "      <td>1.4</td>\n",
       "      <td>0.2</td>\n",
       "      <td>0</td>\n",
       "    </tr>\n",
       "    <tr>\n",
       "      <th>1</th>\n",
       "      <td>4.9</td>\n",
       "      <td>3.0</td>\n",
       "      <td>1.4</td>\n",
       "      <td>0.2</td>\n",
       "      <td>0</td>\n",
       "    </tr>\n",
       "    <tr>\n",
       "      <th>2</th>\n",
       "      <td>4.7</td>\n",
       "      <td>3.2</td>\n",
       "      <td>1.3</td>\n",
       "      <td>0.2</td>\n",
       "      <td>0</td>\n",
       "    </tr>\n",
       "    <tr>\n",
       "      <th>3</th>\n",
       "      <td>4.6</td>\n",
       "      <td>3.1</td>\n",
       "      <td>1.5</td>\n",
       "      <td>0.2</td>\n",
       "      <td>0</td>\n",
       "    </tr>\n",
       "    <tr>\n",
       "      <th>4</th>\n",
       "      <td>5.0</td>\n",
       "      <td>3.6</td>\n",
       "      <td>1.4</td>\n",
       "      <td>0.2</td>\n",
       "      <td>0</td>\n",
       "    </tr>\n",
       "  </tbody>\n",
       "</table>\n",
       "</div>"
      ],
      "text/plain": [
       "   sepal_length  sepal_width  petal_length  petal_width  target\n",
       "0           5.1          3.5           1.4          0.2       0\n",
       "1           4.9          3.0           1.4          0.2       0\n",
       "2           4.7          3.2           1.3          0.2       0\n",
       "3           4.6          3.1           1.5          0.2       0\n",
       "4           5.0          3.6           1.4          0.2       0"
      ]
     },
     "execution_count": 18,
     "metadata": {},
     "output_type": "execute_result"
    }
   ],
   "source": [
    "import pandas as pd\n",
    "\n",
    "features = pd.read_csv('data/iris_featurized.csv')\n",
    "features.head()"
   ]
  },
  {
   "cell_type": "code",
   "execution_count": 19,
   "metadata": {
    "ExecuteTime": {
     "end_time": "2020-06-07T17:09:08.141684Z",
     "start_time": "2020-06-07T17:09:08.011859Z"
    }
   },
   "outputs": [
    {
     "name": "stdout",
     "output_type": "stream",
     "text": [
      " \u001b[31mM\u001b[m data/.gitignore\n",
      "\u001b[31m??\u001b[m dvc.lock\n",
      "\u001b[31m??\u001b[m dvc.yaml\n"
     ]
    }
   ],
   "source": [
    "!git status -s"
   ]
  },
  {
   "cell_type": "code",
   "execution_count": 20,
   "metadata": {
    "ExecuteTime": {
     "end_time": "2020-06-07T17:09:21.669767Z",
     "start_time": "2020-06-07T17:09:21.598219Z"
    }
   },
   "outputs": [
    {
     "name": "stdout",
     "output_type": "stream",
     "text": [
      "[experiments 5f733fe] Add stage features_extraction\n",
      " 3 files changed, 19 insertions(+)\n",
      " create mode 100644 dvc.lock\n",
      " create mode 100644 dvc.yaml\n"
     ]
    }
   ],
   "source": [
    "%%bash\n",
    "git add .\n",
    "git commit -m \"Add stage features_extraction\""
   ]
  },
  {
   "cell_type": "markdown",
   "metadata": {},
   "source": [
    "### Add split train/test stage (via dvc.yaml)"
   ]
  },
  {
   "cell_type": "code",
   "execution_count": 21,
   "metadata": {
    "ExecuteTime": {
     "end_time": "2020-06-07T17:12:13.347073Z",
     "start_time": "2020-06-07T17:12:09.807302Z"
    }
   },
   "outputs": [
    {
     "name": "stdout",
     "output_type": "stream",
     "text": [
      "Running stage 'split_dataset' with command:                           core\u001b[39m>\n",
      "\tpython src/split_dataset.py --test_size 0.4\n",
      "Adding stage 'split_dataset' in 'dvc.yaml'                            core\u001b[39m>\n",
      "Updating lock file 'dvc.lock'\n",
      "\n",
      "To track the changes with git, run:\n",
      "\n",
      "\tgit add dvc.yaml data/.gitignore dvc.lock\n",
      "\u001b[0m"
     ]
    }
   ],
   "source": [
    "!dvc run -n split_dataset \\\n",
    "    -d src/split_dataset.py \\\n",
    "    -d data/iris_featurized.csv \\\n",
    "    -o data/train.csv \\\n",
    "    -o data/test.csv \\\n",
    "    python src/split_dataset.py --test_size 0.4"
   ]
  },
  {
   "cell_type": "code",
   "execution_count": 22,
   "metadata": {
    "ExecuteTime": {
     "end_time": "2020-06-07T17:52:26.968719Z",
     "start_time": "2020-06-07T17:52:26.843560Z"
    }
   },
   "outputs": [
    {
     "name": "stdout",
     "output_type": "stream",
     "text": [
      "stages:\n",
      "  feature_extraction:\n",
      "    cmd: python src/featurization.py\n",
      "    deps:\n",
      "    - data/iris.csv\n",
      "    - src/featurization.py\n",
      "    outs:\n",
      "    - data/iris_featurized.csv\n",
      "  split_dataset:\n",
      "    cmd: python src/split_dataset.py --test_size 0.4\n",
      "    deps:\n",
      "    - data/iris_featurized.csv\n",
      "    - src/split_dataset.py\n",
      "    outs:\n",
      "    - data/test.csv\n",
      "    - data/train.csv\n"
     ]
    }
   ],
   "source": [
    "!cat dvc.yaml"
   ]
  },
  {
   "cell_type": "markdown",
   "metadata": {},
   "source": [
    "### Add train stage"
   ]
  },
  {
   "cell_type": "code",
   "execution_count": 23,
   "metadata": {},
   "outputs": [
    {
     "name": "stdout",
     "output_type": "stream",
     "text": [
      "Running stage 'train' with command:                                   core\u001b[39m>\n",
      "\tpython src/train.py\n",
      "Adding stage 'train' in 'dvc.yaml'                                    core\u001b[39m>\n",
      "Updating lock file 'dvc.lock'\n",
      "\n",
      "To track the changes with git, run:\n",
      "\n",
      "\tgit add dvc.lock dvc.yaml data/.gitignore\n",
      "\u001b[0m"
     ]
    }
   ],
   "source": [
    "!dvc run -n train \\\n",
    "    -d src/train.py \\\n",
    "    -d data/train.csv \\\n",
    "    -o data/model.joblib \\\n",
    "    python src/train.py"
   ]
  },
  {
   "cell_type": "code",
   "execution_count": 24,
   "metadata": {},
   "outputs": [
    {
     "name": "stdout",
     "output_type": "stream",
     "text": [
      "stages:\n",
      "  feature_extraction:\n",
      "    cmd: python src/featurization.py\n",
      "    deps:\n",
      "    - data/iris.csv\n",
      "    - src/featurization.py\n",
      "    outs:\n",
      "    - data/iris_featurized.csv\n",
      "  split_dataset:\n",
      "    cmd: python src/split_dataset.py --test_size 0.4\n",
      "    deps:\n",
      "    - data/iris_featurized.csv\n",
      "    - src/split_dataset.py\n",
      "    outs:\n",
      "    - data/test.csv\n",
      "    - data/train.csv\n",
      "  train:\n",
      "    cmd: python src/train.py\n",
      "    deps:\n",
      "    - data/train.csv\n",
      "    - src/train.py\n",
      "    outs:\n",
      "    - data/model.joblib\n"
     ]
    }
   ],
   "source": [
    "!cat dvc.yaml"
   ]
  },
  {
   "cell_type": "markdown",
   "metadata": {},
   "source": [
    "### Add evaluate stage"
   ]
  },
  {
   "cell_type": "code",
   "execution_count": 25,
   "metadata": {},
   "outputs": [
    {
     "name": "stdout",
     "output_type": "stream",
     "text": [
      "Running stage 'evaluate' with command:                                core\u001b[39m>\n",
      "\tpython src/evaluate.py\n",
      "Adding stage 'evaluate' in 'dvc.yaml'                                 core\u001b[39m>\n",
      "Updating lock file 'dvc.lock'\n",
      "\n",
      "To track the changes with git, run:\n",
      "\n",
      "\tgit add dvc.yaml dvc.lock data/.gitignore\n",
      "\u001b[0m"
     ]
    }
   ],
   "source": [
    "!dvc run -n evaluate \\\n",
    "    -d src/train.py \\\n",
    "    -d src/evaluate.py \\\n",
    "    -d data/test.csv \\\n",
    "    -d data/model.joblib \\\n",
    "    -m data/eval.txt \\\n",
    "    python src/evaluate.py"
   ]
  },
  {
   "cell_type": "code",
   "execution_count": 26,
   "metadata": {},
   "outputs": [
    {
     "name": "stdout",
     "output_type": "stream",
     "text": [
      "stages:\n",
      "  feature_extraction:\n",
      "    cmd: python src/featurization.py\n",
      "    deps:\n",
      "    - data/iris.csv\n",
      "    - src/featurization.py\n",
      "    outs:\n",
      "    - data/iris_featurized.csv\n",
      "  split_dataset:\n",
      "    cmd: python src/split_dataset.py --test_size 0.4\n",
      "    deps:\n",
      "    - data/iris_featurized.csv\n",
      "    - src/split_dataset.py\n",
      "    outs:\n",
      "    - data/test.csv\n",
      "    - data/train.csv\n",
      "  train:\n",
      "    cmd: python src/train.py\n",
      "    deps:\n",
      "    - data/train.csv\n",
      "    - src/train.py\n",
      "    outs:\n",
      "    - data/model.joblib\n",
      "  evaluate:\n",
      "    cmd: python src/evaluate.py\n",
      "    deps:\n",
      "    - data/model.joblib\n",
      "    - data/test.csv\n",
      "    - src/evaluate.py\n",
      "    - src/train.py\n",
      "    metrics:\n",
      "    - data/eval.txt\n"
     ]
    }
   ],
   "source": [
    "!cat dvc.yaml"
   ]
  },
  {
   "cell_type": "markdown",
   "metadata": {},
   "source": [
    "### Reproduce pipeline"
   ]
  },
  {
   "cell_type": "code",
   "execution_count": 27,
   "metadata": {
    "ExecuteTime": {
     "end_time": "2020-06-07T17:52:35.845182Z",
     "start_time": "2020-06-07T17:52:33.292592Z"
    },
    "scrolled": true
   },
   "outputs": [
    {
     "name": "stdout",
     "output_type": "stream",
     "text": [
      "'data/iris.csv.dvc' didn't change, skipping                           core\u001b[39m>\n",
      "Stage 'feature_extraction' didn't change, skipping\n",
      "Stage 'split_dataset' didn't change, skipping\n",
      "Data and pipelines are up to date.\n",
      "\u001b[0m"
     ]
    }
   ],
   "source": [
    "!dvc repro split_dataset"
   ]
  },
  {
   "cell_type": "markdown",
   "metadata": {},
   "source": [
    "## Collaborate on ML Experiments "
   ]
  },
  {
   "cell_type": "markdown",
   "metadata": {},
   "source": [
    "### Specify remote storage (local ~ /tmp/dvc)\n"
   ]
  },
  {
   "cell_type": "code",
   "execution_count": 28,
   "metadata": {
    "ExecuteTime": {
     "end_time": "2020-06-07T17:20:16.138249Z",
     "start_time": "2020-06-07T17:20:16.135878Z"
    }
   },
   "outputs": [
    {
     "name": "stdout",
     "output_type": "stream",
     "text": [
      "Setting 'local' as a default remote.\n",
      "\u001b[0m"
     ]
    }
   ],
   "source": [
    "!dvc remote add -d local /tmp/dvc"
   ]
  },
  {
   "cell_type": "markdown",
   "metadata": {},
   "source": [
    "### Push features to remote storage"
   ]
  },
  {
   "cell_type": "code",
   "execution_count": 29,
   "metadata": {
    "ExecuteTime": {
     "end_time": "2020-06-07T17:18:52.959781Z",
     "start_time": "2020-06-07T17:18:51.443013Z"
    }
   },
   "outputs": [
    {
     "name": "stdout",
     "output_type": "stream",
     "text": [
      "  0% Uploading|                                      |0/2 [00:00<?,     ?file/s]\n",
      "!\u001b[A\n",
      "  0%|          |data/model.joblib              0.00/1.01k [00:00<?,       ?it/s]\u001b[A\n",
      "\n",
      "!\u001b[A\u001b[A\n",
      "\n",
      "  0%|          |data/eval.txt                       0/124 [00:00<?,       ?it/s]\u001b[A\u001b[A\n",
      "                                                                                \u001b[A\n",
      "\n",
      "2 files pushed                                                                  \u001b[A\u001b[A\n",
      "\u001b[0m"
     ]
    }
   ],
   "source": [
    "!dvc push"
   ]
  },
  {
   "cell_type": "markdown",
   "metadata": {},
   "source": [
    "### Create tag `experiment-1`"
   ]
  },
  {
   "cell_type": "code",
   "execution_count": 30,
   "metadata": {},
   "outputs": [],
   "source": [
    "!git tag -a experiment-1 -m \"experiment-1\""
   ]
  },
  {
   "cell_type": "markdown",
   "metadata": {},
   "source": [
    "### Checkout into your teammate experiment state"
   ]
  },
  {
   "cell_type": "code",
   "execution_count": 31,
   "metadata": {
    "ExecuteTime": {
     "end_time": "2020-06-07T17:29:24.798980Z",
     "start_time": "2020-06-07T17:29:24.796737Z"
    }
   },
   "outputs": [
    {
     "name": "stdout",
     "output_type": "stream",
     "text": [
      "M\t.dvc/config\n",
      "M\tdata/.gitignore\n",
      "M\tdvc-1-get-started.ipynb.ipynb\n",
      "M\tdvc.lock\n",
      "M\tdvc.yaml\n"
     ]
    },
    {
     "name": "stderr",
     "output_type": "stream",
     "text": [
      "Note: checking out 'experiment-1'.\n",
      "\n",
      "You are in 'detached HEAD' state. You can look around, make experimental\n",
      "changes and commit them, and you can discard any commits you make in this\n",
      "state without impacting any branches by performing another checkout.\n",
      "\n",
      "If you want to create a new branch to retain commits you create, you may\n",
      "do so (now or later) by using -b with the checkout command again. Example:\n",
      "\n",
      "  git checkout -b <new-branch-name>\n",
      "\n",
      "HEAD сейчас на 5f733fe... Add stage features_extraction\n"
     ]
    }
   ],
   "source": [
    "%%bash \n",
    "\n",
    "git checkout experiment-1\n",
    "dvc checkout"
   ]
  },
  {
   "cell_type": "markdown",
   "metadata": {},
   "source": [
    "### Check Metrics"
   ]
  },
  {
   "cell_type": "code",
   "execution_count": 32,
   "metadata": {
    "ExecuteTime": {
     "end_time": "2019-06-09T08:04:34.968075Z",
     "start_time": "2019-06-09T08:04:33.115716Z"
    }
   },
   "outputs": [
    {
     "name": "stdout",
     "output_type": "stream",
     "text": [
      "\tdata/eval.txt:                                                       core\u001b[39m>\n",
      "\t\tf1_score: 0.7861833464670345\n",
      "\u001b[0m"
     ]
    }
   ],
   "source": [
    "!dvc metrics show"
   ]
  },
  {
   "cell_type": "markdown",
   "metadata": {},
   "source": [
    "### Reproduce experiment"
   ]
  },
  {
   "cell_type": "code",
   "execution_count": 33,
   "metadata": {
    "ExecuteTime": {
     "end_time": "2019-06-09T08:05:03.824843Z",
     "start_time": "2019-06-09T08:05:01.988326Z"
    }
   },
   "outputs": [
    {
     "name": "stdout",
     "output_type": "stream",
     "text": [
      "'data/iris.csv.dvc' didn't change, skipping                           core\u001b[39m>\n",
      "Stage 'feature_extraction' didn't change, skipping\n",
      "Stage 'split_dataset' didn't change, skipping\n",
      "Stage 'train' didn't change, skipping\n",
      "Stage 'evaluate' didn't change, skipping\n",
      "Data and pipelines are up to date.\n",
      "\u001b[0m"
     ]
    }
   ],
   "source": [
    "# Nothing to reproduce\n",
    "!dvc repro"
   ]
  },
  {
   "cell_type": "code",
   "execution_count": 34,
   "metadata": {
    "ExecuteTime": {
     "end_time": "2019-06-09T08:04:44.002365Z",
     "start_time": "2019-06-09T08:04:43.868883Z"
    }
   },
   "outputs": [
    {
     "name": "stdout",
     "output_type": "stream",
     "text": [
      "Verifying data sources in stage: 'data/iris.csv.dvc'                  core\u001b[39m>\n",
      "\n",
      "Running stage 'feature_extraction' with command:\n",
      "\tpython src/featurization.py\n",
      "                                                                      core\u001b[39m>\n",
      "Running stage 'split_dataset' with command:\n",
      "\tpython src/split_dataset.py --test_size 0.4\n",
      "                                                                      core\u001b[39m>\n",
      "Running stage 'train' with command:\n",
      "\tpython src/train.py\n",
      "                                                                      core\u001b[39m>\n",
      "Running stage 'evaluate' with command:\n",
      "\tpython src/evaluate.py\n",
      "                                                                      core\u001b[39m>\n",
      "To track the changes with git, run:\n",
      "\n",
      "\tgit add data/iris.csv.dvc\n",
      "\u001b[0m"
     ]
    }
   ],
   "source": [
    "!dvc repro -f"
   ]
  },
  {
   "cell_type": "code",
   "execution_count": 35,
   "metadata": {},
   "outputs": [
    {
     "name": "stdout",
     "output_type": "stream",
     "text": [
      "\tdata/eval.txt:                                                       core\u001b[39m>\n",
      "\t\tf1_score: 0.7861833464670345\n",
      "\u001b[0m"
     ]
    }
   ],
   "source": [
    "# Check Metrics\n",
    "\n",
    "!dvc metrics show"
   ]
  },
  {
   "cell_type": "code",
   "execution_count": null,
   "metadata": {},
   "outputs": [],
   "source": []
  }
 ],
 "metadata": {
  "kernelspec": {
   "display_name": "Python 3.11.0a7 64-bit",
   "language": "python",
   "name": "python3"
  },
  "language_info": {
   "codemirror_mode": {
    "name": "ipython",
    "version": 3
   },
   "file_extension": ".py",
   "mimetype": "text/x-python",
   "name": "python",
   "nbconvert_exporter": "python",
   "pygments_lexer": "ipython3",
   "version": "3.11.0a7"
  },
  "toc": {
   "base_numbering": 1,
   "nav_menu": {},
   "number_sections": true,
   "sideBar": true,
   "skip_h1_title": false,
   "title_cell": "Table of Contents",
   "title_sidebar": "Contents",
   "toc_cell": false,
   "toc_position": {
    "height": "calc(100% - 180px)",
    "left": "10px",
    "top": "150px",
    "width": "231px"
   },
   "toc_section_display": true,
   "toc_window_display": true
  },
  "varInspector": {
   "cols": {
    "lenName": 16,
    "lenType": 16,
    "lenVar": 40
   },
   "kernels_config": {
    "python": {
     "delete_cmd_postfix": "",
     "delete_cmd_prefix": "del ",
     "library": "var_list.py",
     "varRefreshCmd": "print(var_dic_list())"
    },
    "r": {
     "delete_cmd_postfix": ") ",
     "delete_cmd_prefix": "rm(",
     "library": "var_list.r",
     "varRefreshCmd": "cat(var_dic_list()) "
    }
   },
   "types_to_exclude": [
    "module",
    "function",
    "builtin_function_or_method",
    "instance",
    "_Feature"
   ],
   "window_display": false
  },
  "vscode": {
   "interpreter": {
    "hash": "aee8b7b246df8f9039afb4144a1f6fd8d2ca17a180786b69acc140d282b71a49"
   }
  }
 },
 "nbformat": 4,
 "nbformat_minor": 4
}
